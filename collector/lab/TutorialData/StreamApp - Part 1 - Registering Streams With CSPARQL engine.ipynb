{
 "cells": [
  {
   "cell_type": "code",
   "execution_count": 2,
   "metadata": {},
   "outputs": [],
   "source": [
    "from rsplib.processing import RSPSource, RSPEngine, StreamReasoner, ASPEngine"
   ]
  },
  {
   "cell_type": "markdown",
   "metadata": {},
   "source": [
    "# Comunicating with RDF Streams on TripleWave Using RSPSource Client"
   ]
  },
  {
   "cell_type": "code",
   "execution_count": 6,
   "metadata": {},
   "outputs": [
    {
     "data": {
      "text/plain": [
       "{'@context': {'generatedAt': {'@id': 'http://www.w3.org/ns/prov#generatedAtTime',\n",
       "   '@type': 'http://www.w3.org/2001/XMLSchema#dateTime'},\n",
       "  'sld': 'http://streamreasoning.org/ontologies/SLD4TripleWave#'},\n",
       " '@id': 'tr:sGraph',\n",
       " 'sld:contains': {'@list': []},\n",
       " 'sld:runUUID': 'c72d2b9c-bd8d-11e7-8d13-1a00a83a5601',\n",
       " 'sld:streamLocation': 'ws://aarhustrafficdata182955:4040/primus',\n",
       " 'sld:streamName': 'AarhusTrafficData182955',\n",
       " 'sld:tBoxLocation': 'https://rsplab.blob.core.windows.net/static/citybench.owl'}"
      ]
     },
     "execution_count": 6,
     "metadata": {},
     "output_type": "execute_result"
    }
   ],
   "source": [
    "stream0 = RSPSource(\"http://aarhustrafficdata182955\", 4000);\n",
    "stream0.sgraph()"
   ]
  },
  {
   "cell_type": "code",
   "execution_count": 7,
   "metadata": {},
   "outputs": [
    {
     "data": {
      "text/plain": [
       "{'@context': {'generatedAt': {'@id': 'http://www.w3.org/ns/prov#generatedAtTime',\n",
       "   '@type': 'http://www.w3.org/2001/XMLSchema#dateTime'},\n",
       "  'sld': 'http://streamreasoning.org/ontologies/SLD4TripleWave#'},\n",
       " '@id': 'tr:sGraph',\n",
       " 'sld:contains': {'@list': []},\n",
       " 'sld:runUUID': 'c72d2b9c-bd8d-11e7-8d13-1a00a83a5601',\n",
       " 'sld:streamLocation': 'ws://aarhustrafficdata158505:4041/primus',\n",
       " 'sld:streamName': 'AarhusTrafficData158505',\n",
       " 'sld:tBoxLocation': 'https://rsplab.blob.core.windows.net/static/citybench.owl'}"
      ]
     },
     "execution_count": 7,
     "metadata": {},
     "output_type": "execute_result"
    }
   ],
   "source": [
    "stream1 = RSPSource(\"http://aarhustrafficdata158505\", 4001);\n",
    "stream1.sgraph()"
   ]
  },
  {
   "cell_type": "markdown",
   "metadata": {},
   "source": [
    "# Comunicating with RSP Engine on TripleWave Using the RSPEngine Client"
   ]
  },
  {
   "cell_type": "code",
   "execution_count": 8,
   "metadata": {},
   "outputs": [
    {
     "name": "stdout",
     "output_type": "stream",
     "text": [
      "{\"name\":\"csparql\",\"host\":\"csparql/\",\"runUUID\":\"50057217-bd8d-11e7-801d-1a00a83a5601\",\"port\":8182,\"empty_results\":false,\"inference\":false,\"timestam_function\":false,\"backloop\":false,\"num_streams\":0,\"num_datasets\":0,\"num_queries\":0}\n"
     ]
    },
    {
     "data": {
      "text/plain": [
       "{'backloop': False,\n",
       " 'empty_results': False,\n",
       " 'host': 'csparql/',\n",
       " 'inference': False,\n",
       " 'name': 'csparql',\n",
       " 'num_datasets': 0,\n",
       " 'num_queries': 0,\n",
       " 'num_streams': 0,\n",
       " 'port': 8182,\n",
       " 'runUUID': '50057217-bd8d-11e7-801d-1a00a83a5601',\n",
       " 'timestam_function': False}"
      ]
     },
     "execution_count": 8,
     "metadata": {},
     "output_type": "execute_result"
    }
   ],
   "source": [
    "csparql = RSPEngine(\"http://csparql\", 8182);\n",
    "csparql.status()"
   ]
  },
  {
   "cell_type": "markdown",
   "metadata": {},
   "source": [
    "### Register A Stream Two Alternative APIs"
   ]
  },
  {
   "cell_type": "markdown",
   "metadata": {},
   "source": [
    "### By Name, creating an alias that corresponds to the engine name"
   ]
  },
  {
   "cell_type": "code",
   "execution_count": 9,
   "metadata": {},
   "outputs": [
    {
     "name": "stdout",
     "output_type": "stream",
     "text": [
      "\"Stream AarhusTrafficData182955 succesfully registered with IRI http://aarhustrafficdata182955:4000/sgraph\"\n"
     ]
    },
    {
     "data": {
      "text/plain": [
       "'Stream AarhusTrafficData182955 succesfully registered with IRI http://aarhustrafficdata182955:4000/sgraph'"
      ]
     },
     "execution_count": 9,
     "metadata": {},
     "output_type": "execute_result"
    }
   ],
   "source": [
    "csparql.register_stream(\"AarhusTrafficData182955\", \"http://aarhustrafficdata182955:4000/sgraph\")"
   ]
  },
  {
   "cell_type": "markdown",
   "metadata": {},
   "source": [
    "#### Register A Second Stream"
   ]
  },
  {
   "cell_type": "code",
   "execution_count": 10,
   "metadata": {},
   "outputs": [
    {
     "name": "stdout",
     "output_type": "stream",
     "text": [
      "\"Stream AarhusTrafficData158505 succesfully registered with IRI http://aarhustrafficdata158505:4001/sgraph\"\n"
     ]
    },
    {
     "data": {
      "text/plain": [
       "'Stream AarhusTrafficData158505 succesfully registered with IRI http://aarhustrafficdata158505:4001/sgraph'"
      ]
     },
     "execution_count": 10,
     "metadata": {},
     "output_type": "execute_result"
    }
   ],
   "source": [
    "csparql.register_stream(\"AarhusTrafficData158505\", \"http://aarhustrafficdata158505:4001/sgraph\")"
   ]
  },
  {
   "cell_type": "code",
   "execution_count": 11,
   "metadata": {},
   "outputs": [
    {
     "name": "stdout",
     "output_type": "stream",
     "text": [
      "[{\"streamURL\":\"AarhusTrafficData158505\",\"status\":\"RUNNING\"},{\"streamURL\":\"AarhusTrafficData182955\",\"status\":\"RUNNING\"}]\n"
     ]
    },
    {
     "data": {
      "text/plain": [
       "[{'status': 'RUNNING', 'streamURL': 'AarhusTrafficData158505'},\n",
       " {'status': 'RUNNING', 'streamURL': 'AarhusTrafficData182955'}]"
      ]
     },
     "execution_count": 11,
     "metadata": {},
     "output_type": "execute_result"
    }
   ],
   "source": [
    "csparql.streams()"
   ]
  },
  {
   "cell_type": "markdown",
   "metadata": {},
   "source": [
    "## Register a Query"
   ]
  },
  {
   "cell_type": "code",
   "execution_count": 12,
   "metadata": {},
   "outputs": [
    {
     "name": "stdout",
     "output_type": "stream",
     "text": [
      "CONSTRUCT {?s ?p ?o }\n",
      "FROM STREAM <AarhusTrafficData182955> [RANGE 3s STEP 1s] \n",
      "FROM STREAM <AarhusTrafficData158505> [RANGE 3s STEP 1s] \n",
      "WHERE \n",
      "    {\n",
      "        ?s ?p ?o\n",
      "        \n",
      "}\n"
     ]
    }
   ],
   "source": [
    "with open('q1.csparql.txt', 'r') as csparq_query:\n",
    "   body = csparq_query.read()\n",
    "   print(body)"
   ]
  },
  {
   "cell_type": "code",
   "execution_count": 13,
   "metadata": {},
   "outputs": [
    {
     "name": "stdout",
     "output_type": "stream",
     "text": [
      "{'queryBody': 'REGISTER STREAM unionstrm AS CONSTRUCT {?s ?p ?o }\\nFROM STREAM <AarhusTrafficData182955> [RANGE 3s STEP 1s] \\nFROM STREAM <AarhusTrafficData158505> [RANGE 3s STEP 1s] \\nWHERE \\n    {\\n        ?s ?p ?o\\n        \\n}'}\n",
      "\"Query unionstrm succesfully registered\"\n"
     ]
    },
    {
     "data": {
      "text/plain": [
       "'Query unionstrm succesfully registered'"
      ]
     },
     "execution_count": 13,
     "metadata": {},
     "output_type": "execute_result"
    }
   ],
   "source": [
    "csparql.register_query(\"unionstrm\", \"STREAM\", body) "
   ]
  },
  {
   "cell_type": "markdown",
   "metadata": {},
   "source": [
    "## Register Observer"
   ]
  },
  {
   "cell_type": "code",
   "execution_count": 14,
   "metadata": {},
   "outputs": [
    {
     "name": "stdout",
     "output_type": "stream",
     "text": [
      "\"http://csparql:8182/queries/unionstrm/observers/default\"\n"
     ]
    },
    {
     "data": {
      "text/plain": [
       "'http://csparql:8182/queries/unionstrm/observers/default'"
      ]
     },
     "execution_count": 14,
     "metadata": {},
     "output_type": "execute_result"
    }
   ],
   "source": [
    "csparql.register_observer(\"unionstrm\", \"default\", {\"host\":\"csparql\",\"type\":\"ws\",\"port\":9102,\"name\":\"default\"})"
   ]
  },
  {
   "cell_type": "code",
   "execution_count": 15,
   "metadata": {},
   "outputs": [
    {
     "name": "stdout",
     "output_type": "stream",
     "text": [
      "\"Stream UnionStreamOut succesfully registered with IRI http://csparql:8182/queries/unionstrm/observers/default\"\n"
     ]
    },
    {
     "data": {
      "text/plain": [
       "'Stream UnionStreamOut succesfully registered with IRI http://csparql:8182/queries/unionstrm/observers/default'"
      ]
     },
     "execution_count": 15,
     "metadata": {},
     "output_type": "execute_result"
    }
   ],
   "source": [
    "csparql.register_stream(\"UnionStreamOut\", \"http://csparql:8182/queries/unionstrm/observers/default\")"
   ]
  },
  {
   "cell_type": "code",
   "execution_count": 16,
   "metadata": {},
   "outputs": [
    {
     "name": "stdout",
     "output_type": "stream",
     "text": [
      "CONSTRUCT {?s ?p ?o} \n",
      "FROM STREAM <UnionStreamOut> [RANGE 30s STEP 5s]\n",
      "WHERE { \n",
      "     ?s ?p ?o \n",
      "}\n"
     ]
    }
   ],
   "source": [
    "with open('q2.csparql.txt', 'r') as csparq_query:\n",
    "   body2 = csparq_query.read()\n",
    "   print(body2)"
   ]
  },
  {
   "cell_type": "code",
   "execution_count": 17,
   "metadata": {},
   "outputs": [
    {
     "name": "stdout",
     "output_type": "stream",
     "text": [
      "{'queryBody': 'REGISTER STREAM unionstrmNone AS CONSTRUCT {?s ?p ?o} \\nFROM STREAM <UnionStreamOut> [RANGE 30s STEP 5s]\\nWHERE { \\n     ?s ?p ?o \\n}'}\n",
      "\"Query unionstrmNone succesfully registered\"\n"
     ]
    },
    {
     "data": {
      "text/plain": [
       "'Query unionstrmNone succesfully registered'"
      ]
     },
     "execution_count": 17,
     "metadata": {},
     "output_type": "execute_result"
    }
   ],
   "source": [
    "csparql.register_query(\"unionstrmNone\", \"STREAM\", body2)"
   ]
  },
  {
   "cell_type": "code",
   "execution_count": 18,
   "metadata": {},
   "outputs": [
    {
     "name": "stdout",
     "output_type": "stream",
     "text": [
      "\"http://csparql:8182/queries/unionstrmNone/observers/default\"\n"
     ]
    },
    {
     "data": {
      "text/plain": [
       "'http://csparql:8182/queries/unionstrmNone/observers/default'"
      ]
     },
     "execution_count": 18,
     "metadata": {},
     "output_type": "execute_result"
    }
   ],
   "source": [
    "csparql.register_observer(\"unionstrmNone\", \"default\", {\"host\":\"csparql\",\"type\":\"ws\",\"port\":9103,\"name\":\"default\"})"
   ]
  },
  {
   "cell_type": "code",
   "execution_count": 28,
   "metadata": {},
   "outputs": [
    {
     "data": {
      "text/plain": [
       "{'msg': 'streamCreated'}"
      ]
     },
     "execution_count": 28,
     "metadata": {},
     "output_type": "execute_result"
    }
   ],
   "source": [
    "stream0.start() "
   ]
  },
  {
   "cell_type": "code",
   "execution_count": 29,
   "metadata": {},
   "outputs": [
    {
     "data": {
      "text/plain": [
       "{'msg': 'streamCreated'}"
      ]
     },
     "execution_count": 29,
     "metadata": {},
     "output_type": "execute_result"
    }
   ],
   "source": [
    "stream1.start()"
   ]
  }
 ],
 "metadata": {
  "kernelspec": {
   "display_name": "Python 3",
   "language": "python",
   "name": "python3"
  },
  "language_info": {
   "codemirror_mode": {
    "name": "ipython",
    "version": 3
   },
   "file_extension": ".py",
   "mimetype": "text/x-python",
   "name": "python",
   "nbconvert_exporter": "python",
   "pygments_lexer": "ipython3",
   "version": "3.6.2"
  }
 },
 "nbformat": 4,
 "nbformat_minor": 2
}
