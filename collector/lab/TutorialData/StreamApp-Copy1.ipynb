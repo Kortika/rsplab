{
 "cells": [
  {
   "cell_type": "code",
   "execution_count": 92,
   "metadata": {},
   "outputs": [],
   "source": [
    "from rsplib.processing import RSPSource, RSPEngine,StreamReasoner"
   ]
  },
  {
   "cell_type": "markdown",
   "metadata": {},
   "source": [
    "# Stream Registration"
   ]
  },
  {
   "cell_type": "code",
   "execution_count": 93,
   "metadata": {},
   "outputs": [
    {
     "data": {
      "text/plain": [
       "'http://169.254.1.47:4000/sgraph'"
      ]
     },
     "execution_count": 93,
     "metadata": {},
     "output_type": "execute_result"
    }
   ],
   "source": [
    "stream0 = RSPSource(\"http://169.254.1.47\", 4000);\n",
    "stream0.description()"
   ]
  },
  {
   "cell_type": "code",
   "execution_count": 94,
   "metadata": {},
   "outputs": [
    {
     "data": {
      "text/plain": [
       "{'@context': {'generatedAt': {'@id': 'http://www.w3.org/ns/prov#generatedAtTime',\n",
       "   '@type': 'http://www.w3.org/2001/XMLSchema#dateTime'},\n",
       "  'sld': 'http://streamreasoning.org/ontologies/SLD4TripleWave#'},\n",
       " '@id': 'tr:sGraph',\n",
       " 'sld:contains': {'@list': []},\n",
       " 'sld:runUUID': '975d1b66-b734-11e7-8f06-784f43a5c461',\n",
       " 'sld:streamLocation': 'ws://localhost:4041/primus',\n",
       " 'sld:streamName': 'AarhusTrafficData158505',\n",
       " 'sld:tBoxLocation': 'https://rsplab.blob.core.windows.net/static/citybench.owl'}"
      ]
     },
     "execution_count": 94,
     "metadata": {},
     "output_type": "execute_result"
    }
   ],
   "source": [
    "stream1 = RSPSource(\"http://169.254.1.47\", 4001);\n",
    "stream1.sgraph()"
   ]
  },
  {
   "cell_type": "markdown",
   "metadata": {},
   "source": [
    "# C-SPARQL Engine"
   ]
  },
  {
   "cell_type": "code",
   "execution_count": 95,
   "metadata": {},
   "outputs": [
    {
     "name": "stdout",
     "output_type": "stream",
     "text": [
      "{\"host\":\"http://localhost:8181/\",\"port\":8181,\"empty_results\":false,\"inference\":false,\"timestam_function\":false,\"backloop\":false,\"num_streams\":0,\"num_datasets\":0,\"num_queries\":0}\n"
     ]
    },
    {
     "data": {
      "text/plain": [
       "{'backloop': False,\n",
       " 'empty_results': False,\n",
       " 'host': 'http://localhost:8181/',\n",
       " 'inference': False,\n",
       " 'num_datasets': 0,\n",
       " 'num_queries': 0,\n",
       " 'num_streams': 0,\n",
       " 'port': 8181,\n",
       " 'timestam_function': False}"
      ]
     },
     "execution_count": 95,
     "metadata": {},
     "output_type": "execute_result"
    }
   ],
   "source": [
    "csparql = RSPEngine(\"http://169.254.1.47\", 8181);\n",
    "csparql.status()"
   ]
  },
  {
   "cell_type": "markdown",
   "metadata": {},
   "source": [
    "# Register Streams"
   ]
  },
  {
   "cell_type": "code",
   "execution_count": 96,
   "metadata": {},
   "outputs": [],
   "source": [
    "# Add csparql to the network"
   ]
  },
  {
   "cell_type": "code",
   "execution_count": 97,
   "metadata": {},
   "outputs": [
    {
     "name": "stdout",
     "output_type": "stream",
     "text": [
      "\"Stream AarhusTrafficData182955 succesfully registered with IRI http://localhost:4000/sgraph\"\n"
     ]
    },
    {
     "data": {
      "text/plain": [
       "'Stream AarhusTrafficData182955 succesfully registered with IRI http://localhost:4000/sgraph'"
      ]
     },
     "execution_count": 97,
     "metadata": {},
     "output_type": "execute_result"
    }
   ],
   "source": [
    "csparql.register_stream(\"AarhusTrafficData182955\", \"http://localhost:4000/sgraph\")"
   ]
  },
  {
   "cell_type": "code",
   "execution_count": 98,
   "metadata": {},
   "outputs": [
    {
     "name": "stdout",
     "output_type": "stream",
     "text": [
      "\"Stream AarhusTrafficData158505 succesfully registered with IRI http://localhost:4001/sgraph\"\n"
     ]
    },
    {
     "data": {
      "text/plain": [
       "'Stream AarhusTrafficData158505 succesfully registered with IRI http://localhost:4001/sgraph'"
      ]
     },
     "execution_count": 98,
     "metadata": {},
     "output_type": "execute_result"
    }
   ],
   "source": [
    "csparql.register_stream(\"AarhusTrafficData158505\", \"http://localhost:4001/sgraph\")"
   ]
  },
  {
   "cell_type": "markdown",
   "metadata": {},
   "source": [
    "# Register Query"
   ]
  },
  {
   "cell_type": "code",
   "execution_count": 99,
   "metadata": {},
   "outputs": [
    {
     "name": "stdout",
     "output_type": "stream",
     "text": [
      "CONSTRUCT {?s ?p ?o }\n",
      "FROM STREAM <AarhusTrafficData182955> [RANGE 3s STEP 1s] \n",
      "FROM STREAM <AarhusTrafficData158505> [RANGE 3s STEP 1s] \n",
      "WHERE \n",
      "    {\n",
      "        ?s ?p ?o\n",
      "        \n",
      "}\n"
     ]
    }
   ],
   "source": [
    "with open('q2.csparql.txt', 'r') as csparq_query:\n",
    "   body = csparq_query.read()\n",
    "   print(body)"
   ]
  },
  {
   "cell_type": "code",
   "execution_count": 100,
   "metadata": {},
   "outputs": [
    {
     "name": "stdout",
     "output_type": "stream",
     "text": [
      "{'queryBody': 'REGISTER STREAM unionstrm AS CONSTRUCT {?s ?p ?o }\\nFROM STREAM <AarhusTrafficData182955> [RANGE 3s STEP 1s] \\nFROM STREAM <AarhusTrafficData158505> [RANGE 3s STEP 1s] \\nWHERE \\n    {\\n        ?s ?p ?o\\n        \\n}'}\n",
      "\"Query unionstrm succesfully registered\"\n"
     ]
    },
    {
     "data": {
      "text/plain": [
       "'Query unionstrm succesfully registered'"
      ]
     },
     "execution_count": 100,
     "metadata": {},
     "output_type": "execute_result"
    }
   ],
   "source": [
    "csparql.register_query(\"unionstrm\", \"STREAM\", body) "
   ]
  },
  {
   "cell_type": "code",
   "execution_count": 101,
   "metadata": {},
   "outputs": [
    {
     "name": "stdout",
     "output_type": "stream",
     "text": [
      "[{\"id\":\"unionstrm\",\"type\":\"STREAM\",\"status\":\"RUNNING\"}]\n"
     ]
    },
    {
     "data": {
      "text/plain": [
       "[{'id': 'unionstrm', 'status': 'RUNNING', 'type': 'STREAM'}]"
      ]
     },
     "execution_count": 101,
     "metadata": {},
     "output_type": "execute_result"
    }
   ],
   "source": [
    "csparql.queries()"
   ]
  },
  {
   "cell_type": "code",
   "execution_count": 102,
   "metadata": {},
   "outputs": [
    {
     "name": "stdout",
     "output_type": "stream",
     "text": [
      "\"http://169.254.1.47:8181/queries/unionstrm/observers/default\"\n"
     ]
    },
    {
     "data": {
      "text/plain": [
       "'http://169.254.1.47:8181/queries/unionstrm/observers/default'"
      ]
     },
     "execution_count": 102,
     "metadata": {},
     "output_type": "execute_result"
    }
   ],
   "source": [
    "csparql.register_observer(\"unionstrm\", \"default\", {\"host\":\"localhost\",\"type\":\"ws\",\"port\":9102,\"name\":\"default\"})"
   ]
  },
  {
   "cell_type": "markdown",
   "metadata": {},
   "source": [
    "# Yasper"
   ]
  },
  {
   "cell_type": "code",
   "execution_count": 112,
   "metadata": {},
   "outputs": [],
   "source": [
    "jasper = StreamReasoner(\"http://169.254.1.47\", 8181);"
   ]
  },
  {
   "cell_type": "code",
   "execution_count": 113,
   "metadata": {},
   "outputs": [
    {
     "name": "stdout",
     "output_type": "stream",
     "text": [
      "\"Stream UnionStreamOut succesfully registered with IRI http://169.254.1.47:8182/queries/unionstrm/observers/default\"\n"
     ]
    },
    {
     "data": {
      "text/plain": [
       "'Stream UnionStreamOut succesfully registered with IRI http://169.254.1.47:8182/queries/unionstrm/observers/default'"
      ]
     },
     "execution_count": 113,
     "metadata": {},
     "output_type": "execute_result"
    }
   ],
   "source": [
    "jasper.register_stream(\"UnionStreamOut\", \"http://169.254.1.47:8182/queries/unionstrm/observers/default\")"
   ]
  },
  {
   "cell_type": "code",
   "execution_count": 68,
   "metadata": {},
   "outputs": [
    {
     "data": {
      "text/plain": [
       "'[rdf1and4: (?x ?p ?y) -> (?p rdf:type rdf:Property), (?x rdf:type rdfs:Resource), (?y rdf:type rdfs:Resource)]\\n[rdfs7b: (?a rdf:type rdfs:Class) -> (?a rdfs:subClassOf rdfs:Resource)] \\n\\n[rdfs2:  (?x ?p ?y), (?p rdfs:domain ?c) -> (?x rdf:type ?c)] \\n[rdfs3:  (?x ?p ?y), (?p rdfs:range ?c) -> (?y rdf:type ?c)] \\n[rdfs5a: (?a rdfs:subPropertyOf ?b), (?b rdfs:subPropertyOf ?c) -> (?a rdfs:subPropertyOf ?c)] \\n[rdfs5b: (?a rdf:type rdf:Property) -> (?a rdfs:subPropertyOf ?a)] \\n[rdfs6:  (?a ?p ?b), (?p rdfs:subPropertyOf ?q) -> (?a ?q ?b)] \\n[rdfs7:  (?a rdf:type rdfs:Class) -> (?a rdfs:subClassOf ?a)]\\n[rdfs8:  (?a rdfs:subClassOf ?b), (?b rdfs:subClassOf ?c) -> (?a rdfs:subClassOf ?c)] \\n[rdfs9:  (?x rdfs:subClassOf ?y), (?a rdf:type ?x) -> (?a rdf:type ?y)] \\n[rdfs10: (?x rdf:type rdfs:ContainerMembershipProperty) -> (?x rdfs:subPropertyOf rdfs:member)] \\n'"
      ]
     },
     "execution_count": 68,
     "metadata": {},
     "output_type": "execute_result"
    }
   ],
   "source": [
    "with open('rdfs.rules.txt', 'r') as rule_file:\n",
    "    rdfs=rule_file.read()\n",
    "rdfs"
   ]
  },
  {
   "cell_type": "code",
   "execution_count": 69,
   "metadata": {},
   "outputs": [
    {
     "name": "stdout",
     "output_type": "stream",
     "text": [
      "{'ruleset': 'rdfs', 'rules': '[rdf1and4: (?x ?p ?y) -> (?p rdf:type rdf:Property), (?x rdf:type rdfs:Resource), (?y rdf:type rdfs:Resource)]\\n[rdfs7b: (?a rdf:type rdfs:Class) -> (?a rdfs:subClassOf rdfs:Resource)] \\n\\n[rdfs2:  (?x ?p ?y), (?p rdfs:domain ?c) -> (?x rdf:type ?c)] \\n[rdfs3:  (?x ?p ?y), (?p rdfs:range ?c) -> (?y rdf:type ?c)] \\n[rdfs5a: (?a rdfs:subPropertyOf ?b), (?b rdfs:subPropertyOf ?c) -> (?a rdfs:subPropertyOf ?c)] \\n[rdfs5b: (?a rdf:type rdf:Property) -> (?a rdfs:subPropertyOf ?a)] \\n[rdfs6:  (?a ?p ?b), (?p rdfs:subPropertyOf ?q) -> (?a ?q ?b)] \\n[rdfs7:  (?a rdf:type rdfs:Class) -> (?a rdfs:subClassOf ?a)]\\n[rdfs8:  (?a rdfs:subClassOf ?b), (?b rdfs:subClassOf ?c) -> (?a rdfs:subClassOf ?c)] \\n[rdfs9:  (?x rdfs:subClassOf ?y), (?a rdf:type ?x) -> (?a rdf:type ?y)] \\n[rdfs10: (?x rdf:type rdfs:ContainerMembershipProperty) -> (?x rdfs:subPropertyOf rdfs:member)] \\n'}\n",
      "\"Rules rdfs sucessfully registered\"\n"
     ]
    },
    {
     "data": {
      "text/plain": [
       "'Rules rdfs sucessfully registered'"
      ]
     },
     "execution_count": 69,
     "metadata": {},
     "output_type": "execute_result"
    }
   ],
   "source": [
    "jasper.register_rules(\"rdfs\", rdfs)"
   ]
  },
  {
   "cell_type": "code",
   "execution_count": 114,
   "metadata": {},
   "outputs": [
    {
     "name": "stdout",
     "output_type": "stream",
     "text": [
      "{'queryBody': 'REGISTER STREAM <unionstreamR> AS CONSTRUCT {?s ?p ?o} FROM NAMED WINDOW <win2> [RANGE 30s , SLIDE 5s] ON STREAM <UnionStreamOut>  WHERE  { WINDOW ?w { ?s ?p ?o }}', 'tbox': None, 'ruleset': None}\n",
      "\"Query unionstreamR succesfully registered\"\n"
     ]
    },
    {
     "data": {
      "text/plain": [
       "'Query unionstreamR succesfully registered'"
      ]
     },
     "execution_count": 114,
     "metadata": {},
     "output_type": "execute_result"
    }
   ],
   "source": [
    "tbox = \"https://raw.githubusercontent.com/streamreasoning/rsplab/tutorial/tbox.rdf\"\n",
    "jasper.register_query(\"unionstreamR\", \"STREAM\", \"CONSTRUCT {?s ?p ?o} \"+\n",
    "                      \"FROM NAMED WINDOW <win2> [RANGE 30s , SLIDE 5s] ON STREAM <UnionStreamOut>  \"+\n",
    "                      \"WHERE  { WINDOW ?w { ?s ?p ?o }}\", None, None)"
   ]
  },
  {
   "cell_type": "code",
   "execution_count": 115,
   "metadata": {},
   "outputs": [
    {
     "name": "stdout",
     "output_type": "stream",
     "text": [
      "\"http://169.254.1.47:8181/queries/unionstreamR/observers/default\"\n"
     ]
    },
    {
     "data": {
      "text/plain": [
       "'http://169.254.1.47:8181/queries/unionstreamR/observers/default'"
      ]
     },
     "execution_count": 115,
     "metadata": {},
     "output_type": "execute_result"
    }
   ],
   "source": [
    "jasper.register_observer(\"unionstreamR\", \"default\", {\"host\":\"localhost\",\"type\":\"ws\",\"port\":9103,\"name\":\"default\"})"
   ]
  },
  {
   "cell_type": "code",
   "execution_count": 74,
   "metadata": {},
   "outputs": [
    {
     "name": "stdout",
     "output_type": "stream",
     "text": [
      "[{\"id\":\"default\",\"url\":\"ws://localhost:9103/unionstreamR/results\"}]\n"
     ]
    },
    {
     "data": {
      "text/plain": [
       "[{'id': 'default', 'url': 'ws://localhost:9103/unionstreamR/results'}]"
      ]
     },
     "execution_count": 74,
     "metadata": {},
     "output_type": "execute_result"
    }
   ],
   "source": [
    "jasper.observers(\"unionstreamR\")"
   ]
  },
  {
   "cell_type": "code",
   "execution_count": null,
   "metadata": {},
   "outputs": [],
   "source": []
  }
 ],
 "metadata": {
  "kernelspec": {
   "display_name": "Python 3",
   "language": "python",
   "name": "python3"
  },
  "language_info": {
   "codemirror_mode": {
    "name": "ipython",
    "version": 3
   },
   "file_extension": ".py",
   "mimetype": "text/x-python",
   "name": "python",
   "nbconvert_exporter": "python",
   "pygments_lexer": "ipython3",
   "version": "3.6.2"
  }
 },
 "nbformat": 4,
 "nbformat_minor": 2
}
