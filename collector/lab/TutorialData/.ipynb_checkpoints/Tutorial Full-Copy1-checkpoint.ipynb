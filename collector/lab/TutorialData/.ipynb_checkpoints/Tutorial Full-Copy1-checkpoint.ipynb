{
 "cells": [
  {
   "cell_type": "code",
   "execution_count": 1,
   "metadata": {},
   "outputs": [
    {
     "name": "stdout",
     "output_type": "stream",
     "text": [
      "Collecting rsplib\n",
      "  Downloading rsplib-0.3.2.tar.gz\n",
      "Building wheels for collected packages: rsplib\n",
      "  Running setup.py bdist_wheel for rsplib ... \u001b[?25ldone\n",
      "\u001b[?25h  Stored in directory: /home/jovyan/.cache/pip/wheels/82/6a/d2/2c56860e5b5a0fd929cd40d2e71e7379f97cca60881c630507\n",
      "Successfully built rsplib\n",
      "Installing collected packages: rsplib\n",
      "  Found existing installation: rsplib 0.2.8\n",
      "    Uninstalling rsplib-0.2.8:\n",
      "      Successfully uninstalled rsplib-0.2.8\n",
      "Successfully installed rsplib-0.3.2\n"
     ]
    }
   ],
   "source": [
    "!pip install rsplib --upgrade"
   ]
  },
  {
   "cell_type": "code",
   "execution_count": 2,
   "metadata": {},
   "outputs": [],
   "source": [
    "from rsplib.processing import RSPSource, RSPEngine, StreamReasoner, ASPEngine"
   ]
  },
  {
   "cell_type": "markdown",
   "metadata": {},
   "source": [
    "# Comunicating with RDF Streams on TripleWave Using RSPSource Client"
   ]
  },
  {
   "cell_type": "code",
   "execution_count": 3,
   "metadata": {},
   "outputs": [
    {
     "data": {
      "text/plain": [
       "'http://10.0.0.11:4000/sgraph'"
      ]
     },
     "execution_count": 3,
     "metadata": {},
     "output_type": "execute_result"
    }
   ],
   "source": [
    "stream0 = RSPSource(\"http://10.0.0.11\", 4000);\n",
    "stream0.description()"
   ]
  },
  {
   "cell_type": "code",
   "execution_count": 4,
   "metadata": {},
   "outputs": [
    {
     "data": {
      "text/plain": [
       "{'@context': {'generatedAt': {'@id': 'http://www.w3.org/ns/prov#generatedAtTime',\n",
       "   '@type': 'http://www.w3.org/2001/XMLSchema#dateTime'},\n",
       "  'sld': 'http://streamreasoning.org/ontologies/SLD4TripleWave#'},\n",
       " '@id': 'tr:sGraph',\n",
       " 'sld:contains': {'@list': []},\n",
       " 'sld:runUUID': '46126540-b6c6-11e7-a72e-784f43a5c461',\n",
       " 'sld:streamLocation': 'ws://AarhusTrafficData158505:4041/primus',\n",
       " 'sld:streamName': 'AarhusTrafficData158505',\n",
       " 'sld:tBoxLocation': 'https://rsplab.blob.core.windows.net/static/citybench.owl'}"
      ]
     },
     "execution_count": 4,
     "metadata": {},
     "output_type": "execute_result"
    }
   ],
   "source": [
    "stream1 = RSPSource(\"http://10.0.0.11\", 4001);\n",
    "stream1.sgraph()"
   ]
  },
  {
   "cell_type": "code",
   "execution_count": null,
   "metadata": {},
   "outputs": [],
   "source": []
  },
  {
   "cell_type": "markdown",
   "metadata": {},
   "source": [
    "# Comunicating with RSP Engine on TripleWave Using the RSPEngine Client"
   ]
  },
  {
   "cell_type": "code",
   "execution_count": 14,
   "metadata": {},
   "outputs": [
    {
     "name": "stdout",
     "output_type": "stream",
     "text": [
      "{\"name\":\"csparql\",\"host\":\"csparql/\",\"runUUID\":\"e1efd21e-b6c0-11e7-99fb-784f43a5c461\",\"port\":8182,\"empty_results\":false,\"inference\":false,\"timestam_function\":false,\"backloop\":true,\"num_streams\":0,\"num_datasets\":0,\"num_queries\":0}\n"
     ]
    },
    {
     "data": {
      "text/plain": [
       "{'backloop': True,\n",
       " 'empty_results': False,\n",
       " 'host': 'csparql/',\n",
       " 'inference': False,\n",
       " 'name': 'csparql',\n",
       " 'num_datasets': 0,\n",
       " 'num_queries': 0,\n",
       " 'num_streams': 0,\n",
       " 'port': 8182,\n",
       " 'runUUID': 'e1efd21e-b6c0-11e7-99fb-784f43a5c461',\n",
       " 'timestam_function': False}"
      ]
     },
     "execution_count": 14,
     "metadata": {},
     "output_type": "execute_result"
    }
   ],
   "source": [
    "jasper = RSPEngine(\"http://10.0.0.11\", 8182);\n",
    "jasper.status()"
   ]
  },
  {
   "cell_type": "markdown",
   "metadata": {},
   "source": [
    "### Register A Stream Two Alternative APIs"
   ]
  },
  {
   "cell_type": "markdown",
   "metadata": {},
   "source": [
    "### By Name, creating an alias that corresponds to the engine name"
   ]
  },
  {
   "cell_type": "code",
   "execution_count": 20,
   "metadata": {},
   "outputs": [
    {
     "name": "stdout",
     "output_type": "stream",
     "text": [
      "\"Stream AarhusTrafficData182955 succesfully registered with IRI http://aarhustrafficdata182955:4000/sgraph\"\n"
     ]
    },
    {
     "data": {
      "text/plain": [
       "'Stream AarhusTrafficData182955 succesfully registered with IRI http://aarhustrafficdata182955:4000/sgraph'"
      ]
     },
     "execution_count": 20,
     "metadata": {},
     "output_type": "execute_result"
    }
   ],
   "source": [
    "jasper.register_stream(\"AarhusTrafficData182955\", \"http://aarhustrafficdata182955:4000/sgraph\")"
   ]
  },
  {
   "cell_type": "markdown",
   "metadata": {},
   "source": [
    "#### Register A Second Stream"
   ]
  },
  {
   "cell_type": "code",
   "execution_count": 23,
   "metadata": {},
   "outputs": [
    {
     "name": "stdout",
     "output_type": "stream",
     "text": [
      "\"Stream AarhusTrafficData158505 succesfully registered with IRI http://aarhustrafficdata158505:4001/sgraph\"\n"
     ]
    },
    {
     "data": {
      "text/plain": [
       "'Stream AarhusTrafficData158505 succesfully registered with IRI http://aarhustrafficdata158505:4001/sgraph'"
      ]
     },
     "execution_count": 23,
     "metadata": {},
     "output_type": "execute_result"
    }
   ],
   "source": [
    "jasper.register_stream(\"AarhusTrafficData158505\", \"http://aarhustrafficdata158505:4001/sgraph\")"
   ]
  },
  {
   "cell_type": "code",
   "execution_count": 8,
   "metadata": {},
   "outputs": [
    {
     "name": "stdout",
     "output_type": "stream",
     "text": [
      "[{\"streamURL\":\"AarhusTrafficData158505\",\"status\":\"RUNNING\"},{\"streamURL\":\"AarhusTrafficData182955\",\"status\":\"RUNNING\"}]\n"
     ]
    },
    {
     "data": {
      "text/plain": [
       "[{'status': 'RUNNING', 'streamURL': 'AarhusTrafficData158505'},\n",
       " {'status': 'RUNNING', 'streamURL': 'AarhusTrafficData182955'}]"
      ]
     },
     "execution_count": 8,
     "metadata": {},
     "output_type": "execute_result"
    }
   ],
   "source": [
    "jasper.streams()"
   ]
  },
  {
   "cell_type": "markdown",
   "metadata": {},
   "source": [
    "## Register a Query"
   ]
  },
  {
   "cell_type": "code",
   "execution_count": 30,
   "metadata": {},
   "outputs": [
    {
     "name": "stdout",
     "output_type": "stream",
     "text": [
      "SELECT ?obId1 ?obId2 ?v1 ?v2 \n",
      "FROM STREAM <AarhusTrafficData182955> [RANGE 3s STEP 1s] \n",
      "FROM STREAM <AarhusTrafficData158505> [RANGE 3s STEP 1s] \n",
      "WHERE \n",
      "    {\n",
      "        ?p1   a <http://www.insight-centre.org/citytraffic#CongestionLevel> . \n",
      "        ?p1 ?p ?o\n",
      "        \n",
      "}\n",
      "{'queryBody': 'REGISTER STREAM unionstrm2 AS SELECT ?obId1 ?obId2 ?v1 ?v2 \\nFROM STREAM <AarhusTrafficData182955> [RANGE 3s STEP 1s] \\nFROM STREAM <AarhusTrafficData158505> [RANGE 3s STEP 1s] \\nWHERE \\n    {\\n        ?p1   a <http://www.insight-centre.org/citytraffic#CongestionLevel> . \\n        ?p1 ?p ?o\\n        \\n}'}\n",
      "\"Query unionstrm2 succesfully registered\"\n"
     ]
    }
   ],
   "source": [
    "with open('q2.csparql.txt', 'r') as csparq_query:\n",
    "   body = csparq_query.read()\n",
    "   print(body)\n",
    "   jasper.register_query(\"unionstrm2\", \"STREAM\", body) "
   ]
  },
  {
   "cell_type": "markdown",
   "metadata": {},
   "source": [
    "## Register Observer"
   ]
  },
  {
   "cell_type": "code",
   "execution_count": 32,
   "metadata": {},
   "outputs": [
    {
     "name": "stdout",
     "output_type": "stream",
     "text": [
      "\"Observer default (ws://localhost:9102/unionstrm2) succesfully unregistered\"\n"
     ]
    },
    {
     "data": {
      "text/plain": [
       "'Observer default (ws://localhost:9102/unionstrm2) succesfully unregistered'"
      ]
     },
     "execution_count": 32,
     "metadata": {},
     "output_type": "execute_result"
    }
   ],
   "source": [
    "jasper.unregister_observer(\"unionstrm2\", \"default\")"
   ]
  },
  {
   "cell_type": "code",
   "execution_count": 162,
   "metadata": {},
   "outputs": [
    {
     "name": "stdout",
     "output_type": "stream",
     "text": [
      "\"Stream UnionStreamOut succesfully registered with IRI http://10.0.0.11:8181/queries/unionstream/observers/default\"\n"
     ]
    },
    {
     "data": {
      "text/plain": [
       "'Stream UnionStreamOut succesfully registered with IRI http://10.0.0.11:8181/queries/unionstream/observers/default'"
      ]
     },
     "execution_count": 162,
     "metadata": {},
     "output_type": "execute_result"
    }
   ],
   "source": [
    "jasper.register_stream(\"UnionStreamOut\", \"http://10.0.0.11:8181/queries/unionstream/observers/default\")"
   ]
  },
  {
   "cell_type": "code",
   "execution_count": 163,
   "metadata": {},
   "outputs": [
    {
     "name": "stdout",
     "output_type": "stream",
     "text": [
      "{'queryBody': 'REGISTER STREAM <unionstreamNone> AS CONSTRUCT {?s ?p ?o} FROM NAMED WINDOW <win3> [RANGE 30s , SLIDE 5s] ON STREAM <UnionStreamOut>  WHERE  { WINDOW ?w { ?s ?p ?o }}', 'tbox': None, 'ruleset': None}\n",
      "\"Query unionstreamNone succesfully registered\"\n"
     ]
    },
    {
     "data": {
      "text/plain": [
       "'Query unionstreamNone succesfully registered'"
      ]
     },
     "execution_count": 163,
     "metadata": {},
     "output_type": "execute_result"
    }
   ],
   "source": [
    "jasper.register_query(\"unionstreamNone\", \"STREAM\", \"CONSTRUCT {?s ?p ?o} \"+\n",
    "                      \"FROM NAMED WINDOW <win3> [RANGE 30s , SLIDE 5s] ON STREAM <UnionStreamOut>  \"+\n",
    "                      \"WHERE  { WINDOW ?w { ?s ?p ?o }}\", None, None)"
   ]
  },
  {
   "cell_type": "code",
   "execution_count": 28,
   "metadata": {},
   "outputs": [
    {
     "data": {
      "text/plain": [
       "{'msg': 'streamCreated'}"
      ]
     },
     "execution_count": 28,
     "metadata": {},
     "output_type": "execute_result"
    }
   ],
   "source": [
    "stream0.start() "
   ]
  },
  {
   "cell_type": "code",
   "execution_count": 29,
   "metadata": {},
   "outputs": [
    {
     "data": {
      "text/plain": [
       "{'msg': 'streamCreated'}"
      ]
     },
     "execution_count": 29,
     "metadata": {},
     "output_type": "execute_result"
    }
   ],
   "source": [
    "stream1.start()"
   ]
  },
  {
   "cell_type": "code",
   "execution_count": 165,
   "metadata": {},
   "outputs": [
    {
     "name": "stdout",
     "output_type": "stream",
     "text": [
      "\"http://10.0.0.11:8181/queries/unionstreamNone/observers/default\"\n"
     ]
    },
    {
     "data": {
      "text/plain": [
       "'http://10.0.0.11:8181/queries/unionstreamNone/observers/default'"
      ]
     },
     "execution_count": 165,
     "metadata": {},
     "output_type": "execute_result"
    }
   ],
   "source": [
    "jasper.register_observer(\"unionstreamNone\", \"default\", {\"host\":\"localhost\",\"type\":\"ws\",\"port\":9102,\"name\":\"default\"})"
   ]
  },
  {
   "cell_type": "code",
   "execution_count": 166,
   "metadata": {},
   "outputs": [
    {
     "name": "stdout",
     "output_type": "stream",
     "text": [
      "[{\"id\":\"unionstreamNone\",\"type\":\"STREAM\",\"status\":\"RUNNING\"},{\"id\":\"unionstream\",\"type\":\"STREAM\",\"status\":\"RUNNING\"}]\n"
     ]
    },
    {
     "data": {
      "text/plain": [
       "[{'id': 'unionstreamNone', 'status': 'RUNNING', 'type': 'STREAM'},\n",
       " {'id': 'unionstream', 'status': 'RUNNING', 'type': 'STREAM'}]"
      ]
     },
     "execution_count": 166,
     "metadata": {},
     "output_type": "execute_result"
    }
   ],
   "source": [
    "jasper.queries()"
   ]
  },
  {
   "cell_type": "markdown",
   "metadata": {},
   "source": [
    "# Let's Now Add Some Reasoning"
   ]
  },
  {
   "cell_type": "markdown",
   "metadata": {},
   "source": [
    "## Load Some rules from our file, e.g. RDFS entailment"
   ]
  },
  {
   "cell_type": "code",
   "execution_count": 167,
   "metadata": {},
   "outputs": [
    {
     "data": {
      "text/plain": [
       "'[rdf1and4: (?x ?p ?y) -> (?p rdf:type rdf:Property), (?x rdf:type rdfs:Resource), (?y rdf:type rdfs:Resource)]\\n[rdfs7b: (?a rdf:type rdfs:Class) -> (?a rdfs:subClassOf rdfs:Resource)] \\n\\n[rdfs2:  (?x ?p ?y), (?p rdfs:domain ?c) -> (?x rdf:type ?c)] \\n[rdfs3:  (?x ?p ?y), (?p rdfs:range ?c) -> (?y rdf:type ?c)] \\n[rdfs5a: (?a rdfs:subPropertyOf ?b), (?b rdfs:subPropertyOf ?c) -> (?a rdfs:subPropertyOf ?c)] \\n[rdfs5b: (?a rdf:type rdf:Property) -> (?a rdfs:subPropertyOf ?a)] \\n[rdfs6:  (?a ?p ?b), (?p rdfs:subPropertyOf ?q) -> (?a ?q ?b)] \\n[rdfs7:  (?a rdf:type rdfs:Class) -> (?a rdfs:subClassOf ?a)]\\n[rdfs8:  (?a rdfs:subClassOf ?b), (?b rdfs:subClassOf ?c) -> (?a rdfs:subClassOf ?c)] \\n[rdfs9:  (?x rdfs:subClassOf ?y), (?a rdf:type ?x) -> (?a rdf:type ?y)] \\n[rdfs10: (?x rdf:type rdfs:ContainerMembershipProperty) -> (?x rdfs:subPropertyOf rdfs:member)] \\n'"
      ]
     },
     "execution_count": 167,
     "metadata": {},
     "output_type": "execute_result"
    }
   ],
   "source": [
    "with open('TutorialData/rdfs.rules.txt', 'r') as rule_file:\n",
    "    rdfs=rule_file.read()\n",
    "rdfs"
   ]
  },
  {
   "cell_type": "markdown",
   "metadata": {},
   "source": [
    "## Register RuleSet"
   ]
  },
  {
   "cell_type": "code",
   "execution_count": 168,
   "metadata": {},
   "outputs": [
    {
     "name": "stdout",
     "output_type": "stream",
     "text": [
      "{'ruleset': 'rdfs', 'rules': '[rdf1and4: (?x ?p ?y) -> (?p rdf:type rdf:Property), (?x rdf:type rdfs:Resource), (?y rdf:type rdfs:Resource)]\\n[rdfs7b: (?a rdf:type rdfs:Class) -> (?a rdfs:subClassOf rdfs:Resource)] \\n\\n[rdfs2:  (?x ?p ?y), (?p rdfs:domain ?c) -> (?x rdf:type ?c)] \\n[rdfs3:  (?x ?p ?y), (?p rdfs:range ?c) -> (?y rdf:type ?c)] \\n[rdfs5a: (?a rdfs:subPropertyOf ?b), (?b rdfs:subPropertyOf ?c) -> (?a rdfs:subPropertyOf ?c)] \\n[rdfs5b: (?a rdf:type rdf:Property) -> (?a rdfs:subPropertyOf ?a)] \\n[rdfs6:  (?a ?p ?b), (?p rdfs:subPropertyOf ?q) -> (?a ?q ?b)] \\n[rdfs7:  (?a rdf:type rdfs:Class) -> (?a rdfs:subClassOf ?a)]\\n[rdfs8:  (?a rdfs:subClassOf ?b), (?b rdfs:subClassOf ?c) -> (?a rdfs:subClassOf ?c)] \\n[rdfs9:  (?x rdfs:subClassOf ?y), (?a rdf:type ?x) -> (?a rdf:type ?y)] \\n[rdfs10: (?x rdf:type rdfs:ContainerMembershipProperty) -> (?x rdfs:subPropertyOf rdfs:member)] \\n'}\n",
      "\"Rules rdfs sucessfully registered\"\n"
     ]
    },
    {
     "data": {
      "text/plain": [
       "'Rules rdfs sucessfully registered'"
      ]
     },
     "execution_count": 168,
     "metadata": {},
     "output_type": "execute_result"
    }
   ],
   "source": [
    "jasper.register_rules(\"rdfs\", rdfs)"
   ]
  },
  {
   "cell_type": "code",
   "execution_count": 122,
   "metadata": {},
   "outputs": [
    {
     "name": "stdout",
     "output_type": "stream",
     "text": [
      "[{\"id\":\"RDFS\",\"status\":\"STATIC\"},{\"id\":\"rdfs\",\"status\":\"STATIC\"}]\n"
     ]
    },
    {
     "data": {
      "text/plain": [
       "[{'id': 'RDFS', 'status': 'STATIC'}, {'id': 'rdfs', 'status': 'STATIC'}]"
      ]
     },
     "execution_count": 122,
     "metadata": {},
     "output_type": "execute_result"
    }
   ],
   "source": [
    "jasper.rules()"
   ]
  },
  {
   "cell_type": "markdown",
   "metadata": {},
   "source": [
    "## Our Reasoning is Based on a Terminological Box"
   ]
  },
  {
   "cell_type": "code",
   "execution_count": 193,
   "metadata": {},
   "outputs": [],
   "source": [
    "tbox = \"https://raw.githubusercontent.com/streamreasoning/rsplab/tutorial/tbox.rdf\""
   ]
  },
  {
   "cell_type": "code",
   "execution_count": 194,
   "metadata": {},
   "outputs": [
    {
     "name": "stdout",
     "output_type": "stream",
     "text": [
      "{'queryBody': 'REGISTER STREAM <unionstreamR> AS CONSTRUCT {?s ?p ?o} FROM NAMED WINDOW <win4> [RANGE 30s , SLIDE 5s] ON STREAM <UnionStreamOut>  WHERE  { WINDOW ?w { ?s ?p ?o }}', 'tbox': 'https://raw.githubusercontent.com/streamreasoning/rsplab/tutorial/tbox.rdf', 'ruleset': 'rdfs'}\n",
      "\"Query unionstreamR succesfully registered\"\n"
     ]
    },
    {
     "data": {
      "text/plain": [
       "'Query unionstreamR succesfully registered'"
      ]
     },
     "execution_count": 194,
     "metadata": {},
     "output_type": "execute_result"
    }
   ],
   "source": [
    "jasper.register_query(\"unionstreamR\", \"STREAM\", \"CONSTRUCT {?s ?p ?o} \"+\n",
    "                      \"FROM NAMED WINDOW <win4> [RANGE 30s , SLIDE 5s] ON STREAM <UnionStreamOut>  \"+\n",
    "                      \"WHERE  { WINDOW ?w { ?s ?p ?o }}\", \"rdfs\", tbox)"
   ]
  },
  {
   "cell_type": "code",
   "execution_count": 198,
   "metadata": {},
   "outputs": [
    {
     "name": "stdout",
     "output_type": "stream",
     "text": [
      "\"http://10.0.0.11:8181/queries/unionstreamR/observers/default\"\n"
     ]
    },
    {
     "data": {
      "text/plain": [
       "'http://10.0.0.11:8181/queries/unionstreamR/observers/default'"
      ]
     },
     "execution_count": 198,
     "metadata": {},
     "output_type": "execute_result"
    }
   ],
   "source": [
    "jasper.register_observer(\"unionstreamR\", \"default\", {\"host\":\"localhost\",\"type\":\"ws\",\"port\":9103,\"name\":\"default\"})"
   ]
  },
  {
   "cell_type": "code",
   "execution_count": null,
   "metadata": {},
   "outputs": [],
   "source": []
  }
 ],
 "metadata": {
  "kernelspec": {
   "display_name": "Python 3",
   "language": "python",
   "name": "python3"
  },
  "language_info": {
   "codemirror_mode": {
    "name": "ipython",
    "version": 3
   },
   "file_extension": ".py",
   "mimetype": "text/x-python",
   "name": "python",
   "nbconvert_exporter": "python",
   "pygments_lexer": "ipython3",
   "version": "3.6.2"
  }
 },
 "nbformat": 4,
 "nbformat_minor": 2
}
