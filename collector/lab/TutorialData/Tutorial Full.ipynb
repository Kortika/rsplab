{
 "cells": [
  {
   "cell_type": "code",
   "execution_count": 1,
   "metadata": {},
   "outputs": [
    {
     "name": "stdout",
     "output_type": "stream",
     "text": [
      "Collecting rsplib\n",
      "  Downloading rsplib-0.2.8.tar.gz\n",
      "Building wheels for collected packages: rsplib\n",
      "  Running setup.py bdist_wheel for rsplib ... \u001b[?25ldone\n",
      "\u001b[?25h  Stored in directory: /home/jovyan/.cache/pip/wheels/d9/50/52/7dd7d445a7c612e632ab0af9dc73aca39b5c8ffda46c58224b\n",
      "Successfully built rsplib\n",
      "Installing collected packages: rsplib\n",
      "  Found existing installation: rsplib 0.2.7\n",
      "    Uninstalling rsplib-0.2.7:\n",
      "      Successfully uninstalled rsplib-0.2.7\n",
      "Successfully installed rsplib-0.2.8\n"
     ]
    }
   ],
   "source": [
    "!pip install rsplib --upgrade"
   ]
  },
  {
   "cell_type": "code",
   "execution_count": 154,
   "metadata": {},
   "outputs": [],
   "source": [
    "from rsplib.processing import RSPSource, RSPEngine, ASPEngine"
   ]
  },
  {
   "cell_type": "markdown",
   "metadata": {},
   "source": [
    "# Comunicating with RDF Streams on TripleWave Using RSPSource Client"
   ]
  },
  {
   "cell_type": "code",
   "execution_count": 155,
   "metadata": {},
   "outputs": [
    {
     "data": {
      "text/plain": [
       "'http://10.0.0.11:4000/sgraph'"
      ]
     },
     "execution_count": 155,
     "metadata": {},
     "output_type": "execute_result"
    }
   ],
   "source": [
    "stream0 = RSPSource(\"http://10.0.0.11\", 4000);\n",
    "stream0.description()"
   ]
  },
  {
   "cell_type": "code",
   "execution_count": 156,
   "metadata": {},
   "outputs": [
    {
     "data": {
      "text/plain": [
       "{'@context': {'generatedAt': {'@id': 'http://www.w3.org/ns/prov#generatedAtTime',\n",
       "   '@type': 'http://www.w3.org/2001/XMLSchema#dateTime'},\n",
       "  'sld': 'http://streamreasoning.org/ontologies/SLD4TripleWave#'},\n",
       " '@id': 'tr:sGraph',\n",
       " 'sld:contains': {'@list': [{'@id': 'http://localhost:4001/20753779-CLc68bbd66e985291588b3ed374b679399',\n",
       "    'generatedAt': {'@type': 'xsd:dateTime',\n",
       "     '@value': '2017-10-21T23:12:06.501+0000'}},\n",
       "   {'@id': 'http://localhost:4001/20753779-MTce036c88d761fec37946f49b87b40858',\n",
       "    'generatedAt': {'@type': 'xsd:dateTime',\n",
       "     '@value': '2017-10-21T23:12:06.507+0000'}},\n",
       "   {'@id': 'http://localhost:4001/20753779-ET396adcb41b89ac55ffa127f9b0f9a62b',\n",
       "    'generatedAt': {'@type': 'xsd:dateTime',\n",
       "     '@value': '2017-10-21T23:12:06.871+0000'}},\n",
       "   {'@id': 'http://localhost:4001/20753779-VC905667ef4e3dc328d6cb97d916f80f08',\n",
       "    'generatedAt': {'@type': 'xsd:dateTime',\n",
       "     '@value': '2017-10-21T23:12:07.049+0000'}},\n",
       "   {'@id': 'http://localhost:4001/20753779-AS177254573aa51af142d2e732c57e7943',\n",
       "    'generatedAt': {'@type': 'xsd:dateTime',\n",
       "     '@value': '2017-10-21T23:12:07.226+0000'}},\n",
       "   {'@id': 'http://localhost:4001/20754228-VC4bbe4bd5a1f49f8b073a12f4ba1f0175',\n",
       "    'generatedAt': {'@type': 'xsd:dateTime',\n",
       "     '@value': '2017-10-21T23:13:07.391+0000'}},\n",
       "   {'@id': 'http://localhost:4001/20754228-ET735f38faac9b517c739050b20455fb0f',\n",
       "    'generatedAt': {'@type': 'xsd:dateTime',\n",
       "     '@value': '2017-10-21T23:13:07.396+0000'}},\n",
       "   {'@id': 'http://localhost:4001/20754228-CL1340fa3b0ce1b5e98e726315b7dd3f01',\n",
       "    'generatedAt': {'@type': 'xsd:dateTime',\n",
       "     '@value': '2017-10-21T23:13:08.114+0000'}},\n",
       "   {'@id': 'http://localhost:4001/20754228-AS06b4bc440d50a90eb80328f9bf123d35',\n",
       "    'generatedAt': {'@type': 'xsd:dateTime',\n",
       "     '@value': '2017-10-21T23:13:08.272+0000'}},\n",
       "   {'@id': 'http://localhost:4001/20754228-MT4ca2fcd675dc2c2777efb0bd7990b3a3',\n",
       "    'generatedAt': {'@type': 'xsd:dateTime',\n",
       "     '@value': '2017-10-21T23:13:08.430+0000'}},\n",
       "   {'@id': 'http://localhost:4001/20754677-ET2d81d58a88bb3224aabdc2da74d94780',\n",
       "    'generatedAt': {'@type': 'xsd:dateTime',\n",
       "     '@value': '2017-10-21T23:14:08.586+0000'}},\n",
       "   {'@id': 'http://localhost:4001/20754677-AS82b4b0d9b2a1617f3a6931dd2ddc2803',\n",
       "    'generatedAt': {'@type': 'xsd:dateTime',\n",
       "     '@value': '2017-10-21T23:14:08.589+0000'}},\n",
       "   {'@id': 'http://localhost:4001/20754677-CL5992e299acc5cda2039dc16dc2af8ac6',\n",
       "    'generatedAt': {'@type': 'xsd:dateTime',\n",
       "     '@value': '2017-10-21T23:14:09.265+0000'}},\n",
       "   {'@id': 'http://localhost:4001/20754677-VC95d6b0f562be8bb531d9338d825bfb88',\n",
       "    'generatedAt': {'@type': 'xsd:dateTime',\n",
       "     '@value': '2017-10-21T23:14:09.417+0000'}},\n",
       "   {'@id': 'http://localhost:4001/20754677-MTebe01aef4dfb1102c697a6cdfd59f25f',\n",
       "    'generatedAt': {'@type': 'xsd:dateTime',\n",
       "     '@value': '2017-10-21T23:14:09.553+0000'}},\n",
       "   {'@id': 'http://localhost:4001/20755126-VC71f796170f2464f3cab8f2512fce3bdb',\n",
       "    'generatedAt': {'@type': 'xsd:dateTime',\n",
       "     '@value': '2017-10-21T23:15:09.711+0000'}},\n",
       "   {'@id': 'http://localhost:4001/20755126-MTa19076c8ac8a320990369f0efcd8a439',\n",
       "    'generatedAt': {'@type': 'xsd:dateTime',\n",
       "     '@value': '2017-10-21T23:15:09.718+0000'}},\n",
       "   {'@id': 'http://localhost:4001/20755126-AS3bc2c9bd08123ba4935af9250ef9a916',\n",
       "    'generatedAt': {'@type': 'xsd:dateTime',\n",
       "     '@value': '2017-10-21T23:15:09.936+0000'}},\n",
       "   {'@id': 'http://localhost:4001/20755126-CL9a9d2a5d57d2365037098c84a1889402',\n",
       "    'generatedAt': {'@type': 'xsd:dateTime',\n",
       "     '@value': '2017-10-21T23:15:10.645+0000'}},\n",
       "   {'@id': 'http://localhost:4001/20755126-ET2eb1cb2e7c621a205414e6c0c12e1568',\n",
       "    'generatedAt': {'@type': 'xsd:dateTime',\n",
       "     '@value': '2017-10-21T23:15:10.842+0000'}},\n",
       "   {'@id': 'http://localhost:4001/20755575-CLbad97ce9cc170b5688381069dd47b581',\n",
       "    'generatedAt': {'@type': 'xsd:dateTime',\n",
       "     '@value': '2017-10-21T23:16:11.530+0000'}},\n",
       "   {'@id': 'http://localhost:4001/20755575-ET0761368c418947fed8f3e5ece3d41948',\n",
       "    'generatedAt': {'@type': 'xsd:dateTime',\n",
       "     '@value': '2017-10-21T23:16:11.536+0000'}},\n",
       "   {'@id': 'http://localhost:4001/20755575-VC663acd930d757035cb30476bbe96d998',\n",
       "    'generatedAt': {'@type': 'xsd:dateTime',\n",
       "     '@value': '2017-10-21T23:16:11.673+0000'}},\n",
       "   {'@id': 'http://localhost:4001/20755575-AS1f3443daa0d8a307a9318a3e668e0ea7',\n",
       "    'generatedAt': {'@type': 'xsd:dateTime',\n",
       "     '@value': '2017-10-21T23:16:11.808+0000'}},\n",
       "   {'@id': 'http://localhost:4001/20755575-MT6e6a23d0a6a13d9df02fcb32722cf445',\n",
       "    'generatedAt': {'@type': 'xsd:dateTime',\n",
       "     '@value': '2017-10-21T23:16:11.951+0000'}},\n",
       "   {'@id': 'http://localhost:4001/20756024-ET4c49b8963b40ae8291935a69c2d4bb25',\n",
       "    'generatedAt': {'@type': 'xsd:dateTime',\n",
       "     '@value': '2017-10-21T23:17:12.103+0000'}},\n",
       "   {'@id': 'http://localhost:4001/20756024-ASd13791011a84e30ce40fb812b04a311f',\n",
       "    'generatedAt': {'@type': 'xsd:dateTime',\n",
       "     '@value': '2017-10-21T23:17:12.107+0000'}},\n",
       "   {'@id': 'http://localhost:4001/20756024-VC8ec37e28ecda0410173bc20fbedf5e0e',\n",
       "    'generatedAt': {'@type': 'xsd:dateTime',\n",
       "     '@value': '2017-10-21T23:17:12.298+0000'}},\n",
       "   {'@id': 'http://localhost:4001/20756024-CL8fa36257763f084ed7cb4fe04f6cf20d',\n",
       "    'generatedAt': {'@type': 'xsd:dateTime',\n",
       "     '@value': '2017-10-21T23:17:13.194+0000'}},\n",
       "   {'@id': 'http://localhost:4001/20756024-MTf27ab20727d363efad43241b5eb29363',\n",
       "    'generatedAt': {'@type': 'xsd:dateTime',\n",
       "     '@value': '2017-10-21T23:17:13.369+0000'}},\n",
       "   {'@id': 'http://localhost:4001/20756473-CLd9e9b50e549ed089dbbde716c8530632',\n",
       "    'generatedAt': {'@type': 'xsd:dateTime',\n",
       "     '@value': '2017-10-21T23:18:14.064+0000'}},\n",
       "   {'@id': 'http://localhost:4001/20756473-MT25ac099c9f8ae730b143e7322b1f793a',\n",
       "    'generatedAt': {'@type': 'xsd:dateTime',\n",
       "     '@value': '2017-10-21T23:18:14.070+0000'}},\n",
       "   {'@id': 'http://localhost:4001/20756473-ET9ab5c8fa1a1275d0eaaaeb2e8ef5bfeb',\n",
       "    'generatedAt': {'@type': 'xsd:dateTime',\n",
       "     '@value': '2017-10-21T23:18:14.248+0000'}},\n",
       "   {'@id': 'http://localhost:4001/20756473-VC7bad10bde56f16972a6154c89c13117d',\n",
       "    'generatedAt': {'@type': 'xsd:dateTime',\n",
       "     '@value': '2017-10-21T23:18:14.483+0000'}},\n",
       "   {'@id': 'http://localhost:4001/20756473-ASc4be9e5704a54890c5979768cdd4f0fb',\n",
       "    'generatedAt': {'@type': 'xsd:dateTime',\n",
       "     '@value': '2017-10-21T23:18:14.763+0000'}},\n",
       "   {'@id': 'http://localhost:4001/20756922-VC2abfc17b38a2e9f4ffa65c2f0aa2020a',\n",
       "    'generatedAt': {'@type': 'xsd:dateTime',\n",
       "     '@value': '2017-10-21T23:19:15.391+0000'}},\n",
       "   {'@id': 'http://localhost:4001/20756922-ET016260147822d7174a78159f36c677d1',\n",
       "    'generatedAt': {'@type': 'xsd:dateTime',\n",
       "     '@value': '2017-10-21T23:19:15.396+0000'}},\n",
       "   {'@id': 'http://localhost:4001/20756922-CLc2bb5dc3f10f9fe49cd9f7cefe008ede',\n",
       "    'generatedAt': {'@type': 'xsd:dateTime',\n",
       "     '@value': '2017-10-21T23:19:16.052+0000'}},\n",
       "   {'@id': 'http://localhost:4001/20756922-ASe43d5e6a602a7ac7b7143fda86f6f492',\n",
       "    'generatedAt': {'@type': 'xsd:dateTime',\n",
       "     '@value': '2017-10-21T23:19:16.224+0000'}},\n",
       "   {'@id': 'http://localhost:4001/20756922-MT07131c1a82bbb01780d3a8d6e5535dc4',\n",
       "    'generatedAt': {'@type': 'xsd:dateTime',\n",
       "     '@value': '2017-10-21T23:19:16.407+0000'}},\n",
       "   {'@id': 'http://localhost:4001/20757371-ETadf138640b0abb5fdb5a32c90763b73b',\n",
       "    'generatedAt': {'@type': 'xsd:dateTime',\n",
       "     '@value': '2017-10-21T23:20:16.654+0000'}},\n",
       "   {'@id': 'http://localhost:4001/20757371-ASea244e14b0e01e6816a1be55027bc932',\n",
       "    'generatedAt': {'@type': 'xsd:dateTime',\n",
       "     '@value': '2017-10-21T23:20:16.663+0000'}},\n",
       "   {'@id': 'http://localhost:4001/20757371-CL21e062e545bc96134ac380b23b1de785',\n",
       "    'generatedAt': {'@type': 'xsd:dateTime',\n",
       "     '@value': '2017-10-21T23:20:18.319+0000'}},\n",
       "   {'@id': 'http://localhost:4001/20757371-VCa342bf455f943a44cc6ec87eb8e93cd4',\n",
       "    'generatedAt': {'@type': 'xsd:dateTime',\n",
       "     '@value': '2017-10-21T23:20:18.821+0000'}},\n",
       "   {'@id': 'http://localhost:4001/20757371-MT2277f636157d1ab06e1b3b204ed20421',\n",
       "    'generatedAt': {'@type': 'xsd:dateTime',\n",
       "     '@value': '2017-10-21T23:20:19.132+0000'}},\n",
       "   {'@id': 'http://localhost:4001/20757820-VCaada094799a5484d32b1d28cbd6f7254',\n",
       "    'generatedAt': {'@type': 'xsd:dateTime',\n",
       "     '@value': '2017-10-21T23:21:19.366+0000'}},\n",
       "   {'@id': 'http://localhost:4001/20757820-MT9eb5c16b89642f8f0e191f8626c955b9',\n",
       "    'generatedAt': {'@type': 'xsd:dateTime',\n",
       "     '@value': '2017-10-21T23:21:19.378+0000'}},\n",
       "   {'@id': 'http://localhost:4001/20757820-ET3eadc724548986f2a5040f97a9c9de25',\n",
       "    'generatedAt': {'@type': 'xsd:dateTime',\n",
       "     '@value': '2017-10-21T23:21:19.776+0000'}},\n",
       "   {'@id': 'http://localhost:4001/20757820-CLc0a19680b8bd231181f47640337af008',\n",
       "    'generatedAt': {'@type': 'xsd:dateTime',\n",
       "     '@value': '2017-10-21T23:21:21.036+0000'}},\n",
       "   {'@id': 'http://localhost:4001/20757820-AS3650eb810ca63ce16970a5917b951181',\n",
       "    'generatedAt': {'@type': 'xsd:dateTime',\n",
       "     '@value': '2017-10-21T23:21:21.470+0000'}},\n",
       "   {'@id': 'http://localhost:4001/20758269-CL0c033a8a49aa850c56ec6dfc234200cd',\n",
       "    'generatedAt': {'@type': 'xsd:dateTime',\n",
       "     '@value': '2017-10-21T23:22:22.376+0000'}},\n",
       "   {'@id': 'http://localhost:4001/20758269-ET611f37dd333a194571515e4f9d6c6337',\n",
       "    'generatedAt': {'@type': 'xsd:dateTime',\n",
       "     '@value': '2017-10-21T23:22:22.380+0000'}},\n",
       "   {'@id': 'http://localhost:4001/20758269-VCe3bd212b1eaeb452103041397fd8d395',\n",
       "    'generatedAt': {'@type': 'xsd:dateTime',\n",
       "     '@value': '2017-10-21T23:22:22.612+0000'}},\n",
       "   {'@id': 'http://localhost:4001/20758269-AS10f5e6b4315faa5ee118150b8eef797d',\n",
       "    'generatedAt': {'@type': 'xsd:dateTime',\n",
       "     '@value': '2017-10-21T23:22:22.914+0000'}},\n",
       "   {'@id': 'http://localhost:4001/20758269-MT5cdc3224f627b8a524cd6f22b46cb23d',\n",
       "    'generatedAt': {'@type': 'xsd:dateTime',\n",
       "     '@value': '2017-10-21T23:22:23.097+0000'}},\n",
       "   {'@id': 'http://localhost:4001/20758718-ET9af296deb2810a6128387e1f6a43017c',\n",
       "    'generatedAt': {'@type': 'xsd:dateTime',\n",
       "     '@value': '2017-10-21T23:23:23.301+0000'}},\n",
       "   {'@id': 'http://localhost:4001/20758718-ASb7a0402d8bc1036918ce9e356e52aeef',\n",
       "    'generatedAt': {'@type': 'xsd:dateTime',\n",
       "     '@value': '2017-10-21T23:23:23.306+0000'}},\n",
       "   {'@id': 'http://localhost:4001/20758718-VC73e79c4fc369a83d3efa776cc87b9b07',\n",
       "    'generatedAt': {'@type': 'xsd:dateTime',\n",
       "     '@value': '2017-10-21T23:23:23.445+0000'}},\n",
       "   {'@id': 'http://localhost:4001/20758718-CLf5e798a9ac0f9851fe9035513070808f',\n",
       "    'generatedAt': {'@type': 'xsd:dateTime',\n",
       "     '@value': '2017-10-21T23:23:24.080+0000'}},\n",
       "   {'@id': 'http://localhost:4001/20758718-MT3c2fb578d06dd245ac7e74f2e57fdc0e',\n",
       "    'generatedAt': {'@type': 'xsd:dateTime',\n",
       "     '@value': '2017-10-21T23:23:24.259+0000'}},\n",
       "   {'@id': 'http://localhost:4001/20759167-CL6facc99e88ceda9aca5bbaea6c83b3f8',\n",
       "    'generatedAt': {'@type': 'xsd:dateTime',\n",
       "     '@value': '2017-10-21T23:24:25.046+0000'}},\n",
       "   {'@id': 'http://localhost:4001/20759167-MTdd85be626e021cb66e116ce191d56969',\n",
       "    'generatedAt': {'@type': 'xsd:dateTime',\n",
       "     '@value': '2017-10-21T23:24:25.049+0000'}},\n",
       "   {'@id': 'http://localhost:4001/20759167-ASd8e39d03d0c91c2f2a74ac200f373795',\n",
       "    'generatedAt': {'@type': 'xsd:dateTime',\n",
       "     '@value': '2017-10-21T23:24:25.192+0000'}},\n",
       "   {'@id': 'http://localhost:4001/20759167-VC2518c2bb9099b1642be65d45f20bde44',\n",
       "    'generatedAt': {'@type': 'xsd:dateTime',\n",
       "     '@value': '2017-10-21T23:24:25.333+0000'}},\n",
       "   {'@id': 'http://localhost:4001/20759167-ETc37d24fd5312f7a855fdfca8ec29a1c7',\n",
       "    'generatedAt': {'@type': 'xsd:dateTime',\n",
       "     '@value': '2017-10-21T23:24:25.499+0000'}},\n",
       "   {'@id': 'http://localhost:4001/20759616-VC65c5c3caffaeeb3d9b12cff0c9b50130',\n",
       "    'generatedAt': {'@type': 'xsd:dateTime',\n",
       "     '@value': '2017-10-21T23:25:25.666+0000'}},\n",
       "   {'@id': 'http://localhost:4001/20759616-ASe35113d30c5ffe3a2774d6df39618074',\n",
       "    'generatedAt': {'@type': 'xsd:dateTime',\n",
       "     '@value': '2017-10-21T23:25:25.671+0000'}},\n",
       "   {'@id': 'http://localhost:4001/20759616-CLd113c44850a92f1bf67567f4dfed8317',\n",
       "    'generatedAt': {'@type': 'xsd:dateTime',\n",
       "     '@value': '2017-10-21T23:25:26.673+0000'}},\n",
       "   {'@id': 'http://localhost:4001/20759616-ET7af58e763d3f3858ef95b0b01069b924',\n",
       "    'generatedAt': {'@type': 'xsd:dateTime',\n",
       "     '@value': '2017-10-21T23:25:26.932+0000'}},\n",
       "   {'@id': 'http://localhost:4001/20759616-MTc71797731bf6782113034995540987b1',\n",
       "    'generatedAt': {'@type': 'xsd:dateTime',\n",
       "     '@value': '2017-10-21T23:25:27.149+0000'}},\n",
       "   {'@id': 'http://localhost:4001/20760065-ASd55b3da95a1f3c235e527d0ed88f4c79',\n",
       "    'generatedAt': {'@type': 'xsd:dateTime',\n",
       "     '@value': '2017-10-21T23:26:27.311+0000'}},\n",
       "   {'@id': 'http://localhost:4001/20760065-ET9336d370d6c46c5e21d88a6529d7047f',\n",
       "    'generatedAt': {'@type': 'xsd:dateTime',\n",
       "     '@value': '2017-10-21T23:26:27.343+0000'}},\n",
       "   {'@id': 'http://localhost:4001/20760065-CL891a8c95955f8355b1abeb02e59775a3',\n",
       "    'generatedAt': {'@type': 'xsd:dateTime',\n",
       "     '@value': '2017-10-21T23:26:28.281+0000'}},\n",
       "   {'@id': 'http://localhost:4001/20760065-VCaea23a3889d9addb5f0a40b6a8ac9006',\n",
       "    'generatedAt': {'@type': 'xsd:dateTime',\n",
       "     '@value': '2017-10-21T23:26:28.643+0000'}},\n",
       "   {'@id': 'http://localhost:4001/20760065-MT24a2f3c48314fa38dd3ec9212c096a20',\n",
       "    'generatedAt': {'@type': 'xsd:dateTime',\n",
       "     '@value': '2017-10-21T23:26:29.062+0000'}},\n",
       "   {'@id': 'http://localhost:4001/20760514-VCf2efe0d8f01c6459017049524cbb5f8f',\n",
       "    'generatedAt': {'@type': 'xsd:dateTime',\n",
       "     '@value': '2017-10-21T23:27:29.577+0000'}},\n",
       "   {'@id': 'http://localhost:4001/20760514-MT5e69d5a26a883062cc21f9631ab2db25',\n",
       "    'generatedAt': {'@type': 'xsd:dateTime',\n",
       "     '@value': '2017-10-21T23:27:29.579+0000'}},\n",
       "   {'@id': 'http://localhost:4001/20760514-AS74549730294c7847be8394b4f55f8005',\n",
       "    'generatedAt': {'@type': 'xsd:dateTime',\n",
       "     '@value': '2017-10-21T23:27:29.729+0000'}},\n",
       "   {'@id': 'http://localhost:4001/20760514-CL124ec2232465e43717d73e03828097e3',\n",
       "    'generatedAt': {'@type': 'xsd:dateTime',\n",
       "     '@value': '2017-10-21T23:27:30.466+0000'}},\n",
       "   {'@id': 'http://localhost:4001/20760514-ET9f894fecf4ee3b19e7d7e0ad080335db',\n",
       "    'generatedAt': {'@type': 'xsd:dateTime',\n",
       "     '@value': '2017-10-21T23:27:30.608+0000'}},\n",
       "   {'@id': 'http://localhost:4001/20760963-CL3ffd8ab28d27754ee9e08214252d06a2',\n",
       "    'generatedAt': {'@type': 'xsd:dateTime',\n",
       "     '@value': '2017-10-21T23:28:31.328+0000'}},\n",
       "   {'@id': 'http://localhost:4001/20760963-AScd361a79064acc32a1e195b50059f840',\n",
       "    'generatedAt': {'@type': 'xsd:dateTime',\n",
       "     '@value': '2017-10-21T23:28:31.331+0000'}},\n",
       "   {'@id': 'http://localhost:4001/20760963-VC71a73fe0ba78c5cc7685ed5b5136142c',\n",
       "    'generatedAt': {'@type': 'xsd:dateTime',\n",
       "     '@value': '2017-10-21T23:28:31.676+0000'}},\n",
       "   {'@id': 'http://localhost:4001/20760963-ET588158f31f617b3bf7c0f39a60654f55',\n",
       "    'generatedAt': {'@type': 'xsd:dateTime',\n",
       "     '@value': '2017-10-21T23:28:32.025+0000'}},\n",
       "   {'@id': 'http://localhost:4001/20760963-MT0756a29c4b93d2d9c9404fc00c8cf789',\n",
       "    'generatedAt': {'@type': 'xsd:dateTime',\n",
       "     '@value': '2017-10-21T23:28:32.355+0000'}},\n",
       "   {'@id': 'http://localhost:4001/20761412-AS93da4afcfa4ab63de539a7be04d9f827',\n",
       "    'generatedAt': {'@type': 'xsd:dateTime',\n",
       "     '@value': '2017-10-21T23:29:32.658+0000'}},\n",
       "   {'@id': 'http://localhost:4001/20761412-ET60cd6cb84971c25e8551ebe1bc829404',\n",
       "    'generatedAt': {'@type': 'xsd:dateTime',\n",
       "     '@value': '2017-10-21T23:29:32.667+0000'}},\n",
       "   {'@id': 'http://localhost:4001/20761412-VC5885ef20bca8b73729b753ca96c1a475',\n",
       "    'generatedAt': {'@type': 'xsd:dateTime',\n",
       "     '@value': '2017-10-21T23:29:32.816+0000'}},\n",
       "   {'@id': 'http://localhost:4001/20761412-CL395ba34894b4cae8bddcf32ce9444d6e',\n",
       "    'generatedAt': {'@type': 'xsd:dateTime',\n",
       "     '@value': '2017-10-21T23:29:33.497+0000'}},\n",
       "   {'@id': 'http://localhost:4001/20761412-MTec9a4d2f29767046a22dc613761d64fb',\n",
       "    'generatedAt': {'@type': 'xsd:dateTime',\n",
       "     '@value': '2017-10-21T23:29:33.660+0000'}},\n",
       "   {'@id': 'http://localhost:4001/20761861-CL4c6d722e1e40cf42dd42498ef51eada5',\n",
       "    'generatedAt': {'@type': 'xsd:dateTime',\n",
       "     '@value': '2017-10-21T23:30:34.352+0000'}},\n",
       "   {'@id': 'http://localhost:4001/20761861-MTa756c18ff106476c2388908538ebc38c',\n",
       "    'generatedAt': {'@type': 'xsd:dateTime',\n",
       "     '@value': '2017-10-21T23:30:34.356+0000'}},\n",
       "   {'@id': 'http://localhost:4001/20761861-AS46863b1d274dbf793df12fb153c90a15',\n",
       "    'generatedAt': {'@type': 'xsd:dateTime',\n",
       "     '@value': '2017-10-21T23:30:34.687+0000'}},\n",
       "   {'@id': 'http://localhost:4001/20761861-VC4f62ad3210afb04d017c8928a0f539b5',\n",
       "    'generatedAt': {'@type': 'xsd:dateTime',\n",
       "     '@value': '2017-10-21T23:30:34.836+0000'}},\n",
       "   {'@id': 'http://localhost:4001/20761861-ET6c3e6c7078ee08cc4faab5a9b9e01d0e',\n",
       "    'generatedAt': {'@type': 'xsd:dateTime',\n",
       "     '@value': '2017-10-21T23:30:34.997+0000'}},\n",
       "   {'@id': 'http://localhost:4001/20762310-VCfbc61643272d598a55abd1da6b8b0ba4',\n",
       "    'generatedAt': {'@type': 'xsd:dateTime',\n",
       "     '@value': '2017-10-21T23:31:35.152+0000'}},\n",
       "   {'@id': 'http://localhost:4001/20762310-ETf3d36391c4be4fc1b7fff4ec467ec24b',\n",
       "    'generatedAt': {'@type': 'xsd:dateTime',\n",
       "     '@value': '2017-10-21T23:31:35.175+0000'}},\n",
       "   {'@id': 'http://localhost:4001/20762310-CL68e4e30cafe9359c63d1d694ab51cc47',\n",
       "    'generatedAt': {'@type': 'xsd:dateTime',\n",
       "     '@value': '2017-10-21T23:31:36.208+0000'}},\n",
       "   {'@id': 'http://localhost:4001/20762310-AS8c9805c59e779528b436204a7508a655',\n",
       "    'generatedAt': {'@type': 'xsd:dateTime',\n",
       "     '@value': '2017-10-21T23:31:36.366+0000'}},\n",
       "   {'@id': 'http://localhost:4001/20762310-MT71b0d718a91efb6daf9287e14da682a0',\n",
       "    'generatedAt': {'@type': 'xsd:dateTime',\n",
       "     '@value': '2017-10-21T23:31:36.596+0000'}}]},\n",
       " 'sld:lastUpdated': {'@type': 'xsd:dateTime',\n",
       "  '@value': '2017-10-21T23:31:36.596+0000'},\n",
       " 'sld:streamLocation': 'ws://localhost:4041/primus',\n",
       " 'sld:tBoxLocation': 'https://rsplab.blob.core.windows.net/static/citybench.owl'}"
      ]
     },
     "execution_count": 156,
     "metadata": {},
     "output_type": "execute_result"
    }
   ],
   "source": [
    "stream1 = RSPSource(\"http://10.0.0.11\", 4001);\n",
    "stream1.sgraph()"
   ]
  },
  {
   "cell_type": "code",
   "execution_count": null,
   "metadata": {},
   "outputs": [],
   "source": []
  },
  {
   "cell_type": "markdown",
   "metadata": {},
   "source": [
    "# Comunicating with RSP Engine on TripleWave Using the RSPEngine Client"
   ]
  },
  {
   "cell_type": "code",
   "execution_count": 157,
   "metadata": {},
   "outputs": [
    {
     "name": "stdout",
     "output_type": "stream",
     "text": [
      "{\"host\":\"http://localhost:8181/\",\"port\":8181,\"empty_results\":false,\"inference\":false,\"timestam_function\":false,\"backloop\":false,\"num_streams\":0,\"num_datasets\":0,\"num_queries\":0}\n"
     ]
    },
    {
     "data": {
      "text/plain": [
       "{'backloop': False,\n",
       " 'empty_results': False,\n",
       " 'host': 'http://localhost:8181/',\n",
       " 'inference': False,\n",
       " 'num_datasets': 0,\n",
       " 'num_queries': 0,\n",
       " 'num_streams': 0,\n",
       " 'port': 8181,\n",
       " 'timestam_function': False}"
      ]
     },
     "execution_count": 157,
     "metadata": {},
     "output_type": "execute_result"
    }
   ],
   "source": [
    "jasper = RSPEngine(\"http://10.0.0.11\", 8181);\n",
    "jasper.status()"
   ]
  },
  {
   "cell_type": "markdown",
   "metadata": {},
   "source": [
    "### Register A Stream Two Alternative APIs"
   ]
  },
  {
   "cell_type": "markdown",
   "metadata": {},
   "source": [
    "### By Name, creating an alias that corresponds to the engine name"
   ]
  },
  {
   "cell_type": "code",
   "execution_count": 158,
   "metadata": {},
   "outputs": [
    {
     "name": "stdout",
     "output_type": "stream",
     "text": [
      "\"Stream AarhusTrafficData158505 succesfully registered with IRI http://10.0.0.11:4000/sgraph\"\n"
     ]
    },
    {
     "data": {
      "text/plain": [
       "'Stream AarhusTrafficData158505 succesfully registered with IRI http://10.0.0.11:4000/sgraph'"
      ]
     },
     "execution_count": 158,
     "metadata": {},
     "output_type": "execute_result"
    }
   ],
   "source": [
    "jasper.register_stream(\"AarhusTrafficData158505\", stream0.description())"
   ]
  },
  {
   "cell_type": "markdown",
   "metadata": {},
   "source": [
    "#### Register A Second Stream"
   ]
  },
  {
   "cell_type": "code",
   "execution_count": 159,
   "metadata": {},
   "outputs": [
    {
     "name": "stdout",
     "output_type": "stream",
     "text": [
      "\"Stream AarhusTrafficData182955 succesfully registered with IRI http://10.0.0.11:4001/sgraph\"\n"
     ]
    },
    {
     "data": {
      "text/plain": [
       "'Stream AarhusTrafficData182955 succesfully registered with IRI http://10.0.0.11:4001/sgraph'"
      ]
     },
     "execution_count": 159,
     "metadata": {},
     "output_type": "execute_result"
    }
   ],
   "source": [
    "jasper.register_stream(\"AarhusTrafficData182955\", stream1.description())"
   ]
  },
  {
   "cell_type": "code",
   "execution_count": 137,
   "metadata": {},
   "outputs": [
    {
     "name": "stdout",
     "output_type": "stream",
     "text": [
      "[{\"streamURL\":\"http_2_3A_2_2F_2_2Flocalhost_2_3A8081_2_2Fjasper_2_2FAarhusTrafficData158505\",\"status\":\"RUNNING\"},{\"streamURL\":\"http_2_3A_2_2F_2_2Flocalhost_2_3A8081_2_2Fjasper_2_2FAarhusTrafficData182955\",\"status\":\"RUNNING\"},{\"streamURL\":\"http_2_3A_2_2F_2_2Flocalhost_2_3A8081_2_2Fjasper_2_2FAarhusTrafficData182955\",\"status\":\"RUNNING\"},{\"streamURL\":\"http_2_3A_2_2F_2_2Flocalhost_2_3A8081_2_2Fjasper_2_2FAarhusTrafficData158505\",\"status\":\"RUNNING\"}]\n"
     ]
    },
    {
     "data": {
      "text/plain": [
       "[{'status': 'RUNNING',\n",
       "  'streamURL': 'http_2_3A_2_2F_2_2Flocalhost_2_3A8081_2_2Fjasper_2_2FAarhusTrafficData158505'},\n",
       " {'status': 'RUNNING',\n",
       "  'streamURL': 'http_2_3A_2_2F_2_2Flocalhost_2_3A8081_2_2Fjasper_2_2FAarhusTrafficData182955'},\n",
       " {'status': 'RUNNING',\n",
       "  'streamURL': 'http_2_3A_2_2F_2_2Flocalhost_2_3A8081_2_2Fjasper_2_2FAarhusTrafficData182955'},\n",
       " {'status': 'RUNNING',\n",
       "  'streamURL': 'http_2_3A_2_2F_2_2Flocalhost_2_3A8081_2_2Fjasper_2_2FAarhusTrafficData158505'}]"
      ]
     },
     "execution_count": 137,
     "metadata": {},
     "output_type": "execute_result"
    }
   ],
   "source": [
    "jasper.streams()"
   ]
  },
  {
   "cell_type": "markdown",
   "metadata": {},
   "source": [
    "## Register a Query"
   ]
  },
  {
   "cell_type": "code",
   "execution_count": 160,
   "metadata": {},
   "outputs": [
    {
     "name": "stdout",
     "output_type": "stream",
     "text": [
      "{'queryBody': 'REGISTER STREAM <unionstream> AS CONSTRUCT {?s ?p ?o} FROM NAMED WINDOW <win1> [RANGE 30s , SLIDE 30s] ON STREAM <AarhusTrafficData158505>  FROM NAMED WINDOW <win2> [RANGE 30s , SLIDE 30s] ON STREAM <AarhusTrafficData182955>  WHERE  { WINDOW ?w { ?s ?p ?o }}', 'tbox': None, 'ruleset': None}\n",
      "\"Query unionstream succesfully registered\"\n"
     ]
    },
    {
     "data": {
      "text/plain": [
       "'Query unionstream succesfully registered'"
      ]
     },
     "execution_count": 160,
     "metadata": {},
     "output_type": "execute_result"
    }
   ],
   "source": [
    "jasper.register_query(\"unionstream\", \"STREAM\", \"CONSTRUCT {?s ?p ?o} \"+\n",
    "                      \"FROM NAMED WINDOW <win1> [RANGE 30s , SLIDE 30s] ON STREAM <AarhusTrafficData158505>  \"+\n",
    "                      \"FROM NAMED WINDOW <win2> [RANGE 30s , SLIDE 30s] ON STREAM <AarhusTrafficData182955>  \"+\n",
    "                      \"WHERE  { WINDOW ?w { ?s ?p ?o }}\", None, None)"
   ]
  },
  {
   "cell_type": "markdown",
   "metadata": {},
   "source": [
    "## Register Observer"
   ]
  },
  {
   "cell_type": "code",
   "execution_count": 161,
   "metadata": {},
   "outputs": [
    {
     "name": "stdout",
     "output_type": "stream",
     "text": [
      "\"http://10.0.0.11:8181/queries/unionstream/observers/default\"\n"
     ]
    },
    {
     "data": {
      "text/plain": [
       "'http://10.0.0.11:8181/queries/unionstream/observers/default'"
      ]
     },
     "execution_count": 161,
     "metadata": {},
     "output_type": "execute_result"
    }
   ],
   "source": [
    "jasper.register_observer(\"unionstream\", \"default\", {\"host\":\"localhost\",\"type\":\"ws\",\"port\":9101,\"name\":\"default\"})"
   ]
  },
  {
   "cell_type": "code",
   "execution_count": 162,
   "metadata": {},
   "outputs": [
    {
     "name": "stdout",
     "output_type": "stream",
     "text": [
      "\"Stream UnionStreamOut succesfully registered with IRI http://10.0.0.11:8181/queries/unionstream/observers/default\"\n"
     ]
    },
    {
     "data": {
      "text/plain": [
       "'Stream UnionStreamOut succesfully registered with IRI http://10.0.0.11:8181/queries/unionstream/observers/default'"
      ]
     },
     "execution_count": 162,
     "metadata": {},
     "output_type": "execute_result"
    }
   ],
   "source": [
    "jasper.register_stream(\"UnionStreamOut\", \"http://10.0.0.11:8181/queries/unionstream/observers/default\")"
   ]
  },
  {
   "cell_type": "code",
   "execution_count": 163,
   "metadata": {},
   "outputs": [
    {
     "name": "stdout",
     "output_type": "stream",
     "text": [
      "{'queryBody': 'REGISTER STREAM <unionstreamNone> AS CONSTRUCT {?s ?p ?o} FROM NAMED WINDOW <win3> [RANGE 30s , SLIDE 5s] ON STREAM <UnionStreamOut>  WHERE  { WINDOW ?w { ?s ?p ?o }}', 'tbox': None, 'ruleset': None}\n",
      "\"Query unionstreamNone succesfully registered\"\n"
     ]
    },
    {
     "data": {
      "text/plain": [
       "'Query unionstreamNone succesfully registered'"
      ]
     },
     "execution_count": 163,
     "metadata": {},
     "output_type": "execute_result"
    }
   ],
   "source": [
    "jasper.register_query(\"unionstreamNone\", \"STREAM\", \"CONSTRUCT {?s ?p ?o} \"+\n",
    "                      \"FROM NAMED WINDOW <win3> [RANGE 30s , SLIDE 5s] ON STREAM <UnionStreamOut>  \"+\n",
    "                      \"WHERE  { WINDOW ?w { ?s ?p ?o }}\", None, None)"
   ]
  },
  {
   "cell_type": "code",
   "execution_count": 100,
   "metadata": {},
   "outputs": [
    {
     "data": {
      "text/plain": [
       "{'msg': 'streamCreated'}"
      ]
     },
     "execution_count": 100,
     "metadata": {},
     "output_type": "execute_result"
    }
   ],
   "source": [
    "stream0.start() "
   ]
  },
  {
   "cell_type": "code",
   "execution_count": 101,
   "metadata": {},
   "outputs": [
    {
     "data": {
      "text/plain": [
       "{'msg': 'streamCreated'}"
      ]
     },
     "execution_count": 101,
     "metadata": {},
     "output_type": "execute_result"
    }
   ],
   "source": [
    "stream1.start()"
   ]
  },
  {
   "cell_type": "code",
   "execution_count": 165,
   "metadata": {},
   "outputs": [
    {
     "name": "stdout",
     "output_type": "stream",
     "text": [
      "\"http://10.0.0.11:8181/queries/unionstreamNone/observers/default\"\n"
     ]
    },
    {
     "data": {
      "text/plain": [
       "'http://10.0.0.11:8181/queries/unionstreamNone/observers/default'"
      ]
     },
     "execution_count": 165,
     "metadata": {},
     "output_type": "execute_result"
    }
   ],
   "source": [
    "jasper.register_observer(\"unionstreamNone\", \"default\", {\"host\":\"localhost\",\"type\":\"ws\",\"port\":9102,\"name\":\"default\"})"
   ]
  },
  {
   "cell_type": "code",
   "execution_count": 166,
   "metadata": {},
   "outputs": [
    {
     "name": "stdout",
     "output_type": "stream",
     "text": [
      "[{\"id\":\"unionstreamNone\",\"type\":\"STREAM\",\"status\":\"RUNNING\"},{\"id\":\"unionstream\",\"type\":\"STREAM\",\"status\":\"RUNNING\"}]\n"
     ]
    },
    {
     "data": {
      "text/plain": [
       "[{'id': 'unionstreamNone', 'status': 'RUNNING', 'type': 'STREAM'},\n",
       " {'id': 'unionstream', 'status': 'RUNNING', 'type': 'STREAM'}]"
      ]
     },
     "execution_count": 166,
     "metadata": {},
     "output_type": "execute_result"
    }
   ],
   "source": [
    "jasper.queries()"
   ]
  },
  {
   "cell_type": "markdown",
   "metadata": {},
   "source": [
    "# Let's Now Add Some Reasoning"
   ]
  },
  {
   "cell_type": "markdown",
   "metadata": {},
   "source": [
    "## Load Some rules from our file, e.g. RDFS entailment"
   ]
  },
  {
   "cell_type": "code",
   "execution_count": 167,
   "metadata": {},
   "outputs": [
    {
     "data": {
      "text/plain": [
       "'[rdf1and4: (?x ?p ?y) -> (?p rdf:type rdf:Property), (?x rdf:type rdfs:Resource), (?y rdf:type rdfs:Resource)]\\n[rdfs7b: (?a rdf:type rdfs:Class) -> (?a rdfs:subClassOf rdfs:Resource)] \\n\\n[rdfs2:  (?x ?p ?y), (?p rdfs:domain ?c) -> (?x rdf:type ?c)] \\n[rdfs3:  (?x ?p ?y), (?p rdfs:range ?c) -> (?y rdf:type ?c)] \\n[rdfs5a: (?a rdfs:subPropertyOf ?b), (?b rdfs:subPropertyOf ?c) -> (?a rdfs:subPropertyOf ?c)] \\n[rdfs5b: (?a rdf:type rdf:Property) -> (?a rdfs:subPropertyOf ?a)] \\n[rdfs6:  (?a ?p ?b), (?p rdfs:subPropertyOf ?q) -> (?a ?q ?b)] \\n[rdfs7:  (?a rdf:type rdfs:Class) -> (?a rdfs:subClassOf ?a)]\\n[rdfs8:  (?a rdfs:subClassOf ?b), (?b rdfs:subClassOf ?c) -> (?a rdfs:subClassOf ?c)] \\n[rdfs9:  (?x rdfs:subClassOf ?y), (?a rdf:type ?x) -> (?a rdf:type ?y)] \\n[rdfs10: (?x rdf:type rdfs:ContainerMembershipProperty) -> (?x rdfs:subPropertyOf rdfs:member)] \\n'"
      ]
     },
     "execution_count": 167,
     "metadata": {},
     "output_type": "execute_result"
    }
   ],
   "source": [
    "with open('TutorialData/rdfs.rules.txt', 'r') as rule_file:\n",
    "    rdfs=rule_file.read()\n",
    "rdfs"
   ]
  },
  {
   "cell_type": "markdown",
   "metadata": {},
   "source": [
    "## Register RuleSet"
   ]
  },
  {
   "cell_type": "code",
   "execution_count": 168,
   "metadata": {},
   "outputs": [
    {
     "name": "stdout",
     "output_type": "stream",
     "text": [
      "{'ruleset': 'rdfs', 'rules': '[rdf1and4: (?x ?p ?y) -> (?p rdf:type rdf:Property), (?x rdf:type rdfs:Resource), (?y rdf:type rdfs:Resource)]\\n[rdfs7b: (?a rdf:type rdfs:Class) -> (?a rdfs:subClassOf rdfs:Resource)] \\n\\n[rdfs2:  (?x ?p ?y), (?p rdfs:domain ?c) -> (?x rdf:type ?c)] \\n[rdfs3:  (?x ?p ?y), (?p rdfs:range ?c) -> (?y rdf:type ?c)] \\n[rdfs5a: (?a rdfs:subPropertyOf ?b), (?b rdfs:subPropertyOf ?c) -> (?a rdfs:subPropertyOf ?c)] \\n[rdfs5b: (?a rdf:type rdf:Property) -> (?a rdfs:subPropertyOf ?a)] \\n[rdfs6:  (?a ?p ?b), (?p rdfs:subPropertyOf ?q) -> (?a ?q ?b)] \\n[rdfs7:  (?a rdf:type rdfs:Class) -> (?a rdfs:subClassOf ?a)]\\n[rdfs8:  (?a rdfs:subClassOf ?b), (?b rdfs:subClassOf ?c) -> (?a rdfs:subClassOf ?c)] \\n[rdfs9:  (?x rdfs:subClassOf ?y), (?a rdf:type ?x) -> (?a rdf:type ?y)] \\n[rdfs10: (?x rdf:type rdfs:ContainerMembershipProperty) -> (?x rdfs:subPropertyOf rdfs:member)] \\n'}\n",
      "\"Rules rdfs sucessfully registered\"\n"
     ]
    },
    {
     "data": {
      "text/plain": [
       "'Rules rdfs sucessfully registered'"
      ]
     },
     "execution_count": 168,
     "metadata": {},
     "output_type": "execute_result"
    }
   ],
   "source": [
    "jasper.register_rules(\"rdfs\", rdfs)"
   ]
  },
  {
   "cell_type": "code",
   "execution_count": 122,
   "metadata": {},
   "outputs": [
    {
     "name": "stdout",
     "output_type": "stream",
     "text": [
      "[{\"id\":\"RDFS\",\"status\":\"STATIC\"},{\"id\":\"rdfs\",\"status\":\"STATIC\"}]\n"
     ]
    },
    {
     "data": {
      "text/plain": [
       "[{'id': 'RDFS', 'status': 'STATIC'}, {'id': 'rdfs', 'status': 'STATIC'}]"
      ]
     },
     "execution_count": 122,
     "metadata": {},
     "output_type": "execute_result"
    }
   ],
   "source": [
    "jasper.rules()"
   ]
  },
  {
   "cell_type": "markdown",
   "metadata": {},
   "source": [
    "## Our Reasoning is Based on a Terminological Box"
   ]
  },
  {
   "cell_type": "code",
   "execution_count": 193,
   "metadata": {},
   "outputs": [],
   "source": [
    "tbox = \"https://raw.githubusercontent.com/streamreasoning/rsplab/tutorial/tbox.rdf\""
   ]
  },
  {
   "cell_type": "code",
   "execution_count": 194,
   "metadata": {},
   "outputs": [
    {
     "name": "stdout",
     "output_type": "stream",
     "text": [
      "{'queryBody': 'REGISTER STREAM <unionstreamR> AS CONSTRUCT {?s ?p ?o} FROM NAMED WINDOW <win4> [RANGE 30s , SLIDE 5s] ON STREAM <UnionStreamOut>  WHERE  { WINDOW ?w { ?s ?p ?o }}', 'tbox': 'https://raw.githubusercontent.com/streamreasoning/rsplab/tutorial/tbox.rdf', 'ruleset': 'rdfs'}\n",
      "\"Query unionstreamR succesfully registered\"\n"
     ]
    },
    {
     "data": {
      "text/plain": [
       "'Query unionstreamR succesfully registered'"
      ]
     },
     "execution_count": 194,
     "metadata": {},
     "output_type": "execute_result"
    }
   ],
   "source": [
    "jasper.register_query(\"unionstreamR\", \"STREAM\", \"CONSTRUCT {?s ?p ?o} \"+\n",
    "                      \"FROM NAMED WINDOW <win4> [RANGE 30s , SLIDE 5s] ON STREAM <UnionStreamOut>  \"+\n",
    "                      \"WHERE  { WINDOW ?w { ?s ?p ?o }}\", \"rdfs\", tbox)"
   ]
  },
  {
   "cell_type": "code",
   "execution_count": 198,
   "metadata": {},
   "outputs": [
    {
     "name": "stdout",
     "output_type": "stream",
     "text": [
      "\"http://10.0.0.11:8181/queries/unionstreamR/observers/default\"\n"
     ]
    },
    {
     "data": {
      "text/plain": [
       "'http://10.0.0.11:8181/queries/unionstreamR/observers/default'"
      ]
     },
     "execution_count": 198,
     "metadata": {},
     "output_type": "execute_result"
    }
   ],
   "source": [
    "jasper.register_observer(\"unionstreamR\", \"default\", {\"host\":\"localhost\",\"type\":\"ws\",\"port\":9103,\"name\":\"default\"})"
   ]
  },
  {
   "cell_type": "code",
   "execution_count": null,
   "metadata": {},
   "outputs": [],
   "source": []
  }
 ],
 "metadata": {
  "kernelspec": {
   "display_name": "Python 3",
   "language": "python",
   "name": "python3"
  },
  "language_info": {
   "codemirror_mode": {
    "name": "ipython",
    "version": 3
   },
   "file_extension": ".py",
   "mimetype": "text/x-python",
   "name": "python",
   "nbconvert_exporter": "python",
   "pygments_lexer": "ipython3",
   "version": "3.6.2"
  }
 },
 "nbformat": 4,
 "nbformat_minor": 2
}
