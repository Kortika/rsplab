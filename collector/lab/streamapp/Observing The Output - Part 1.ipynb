{
 "cells": [
  {
   "cell_type": "code",
   "execution_count": 19,
   "metadata": {},
   "outputs": [],
   "source": [
    "import threading\n",
    "from collections import deque\n",
    "from IPython.display import display\n",
    "import ipywidgets as widgets\n",
    "import time\n",
    "import websocket\n",
    "from rsplib.processing import RSPSource\n",
    "import json, requests\n"
   ]
  },
  {
   "cell_type": "markdown",
   "metadata": {},
   "source": [
    "# Out Stream"
   ]
  },
  {
   "cell_type": "code",
   "execution_count": 22,
   "metadata": {},
   "outputs": [
    {
     "data": {
      "text/plain": [
       "'ws://csparql:8283/givemeall/results'"
      ]
     },
     "execution_count": 22,
     "metadata": {},
     "output_type": "execute_result"
    }
   ],
   "source": [
    "output_sream = requests.get('http://csparql:8182/queries/givemeall/observers/default').json()\n",
    "output_sream['sld:streamLocation']"
   ]
  },
  {
   "cell_type": "code",
   "execution_count": 23,
   "metadata": {},
   "outputs": [],
   "source": [
    "buffer = deque([], 10)"
   ]
  },
  {
   "cell_type": "code",
   "execution_count": 24,
   "metadata": {},
   "outputs": [
    {
     "name": "stderr",
     "output_type": "stream",
     "text": [
      "--- request header ---\n",
      "GET /givemeall/results HTTP/1.1\n",
      "Upgrade: websocket\n",
      "Connection: Upgrade\n",
      "Host: csparql:8283\n",
      "Origin: http://csparql:8283\n",
      "Sec-WebSocket-Key: g7jklzNURZBFusNR9eCSOg==\n",
      "Sec-WebSocket-Version: 13\n",
      "\n",
      "\n",
      "-----------------------\n",
      "--- response header ---\n",
      "HTTP/1.1 101 Web Socket Protocol Handshake\n",
      "Connection: Upgrade\n",
      "Sec-WebSocket-Accept: m7oWn1b0o36Hv8SV/YDeXCcLdvg=\n",
      "Upgrade: websocket\n",
      "-----------------------\n"
     ]
    }
   ],
   "source": [
    "def on_message(ws, message):\n",
    "    buffer.append(message)\n",
    "\n",
    "def on_error(ws, error):\n",
    "    print(error)\n",
    "\n",
    "def on_close(ws):\n",
    "    print(\"### closed ###\")\n",
    "\n",
    "def on_open(ws):\n",
    "    def run(*args):\n",
    "        for i in range(3):\n",
    "            time.sleep(1)\n",
    "            ws.send(\"Hello %d\" % i)\n",
    "        time.sleep(1)\n",
    "        ws.close()\n",
    "        print(\"thread terminating...\")\n",
    "\n",
    "\n",
    "def proc(on_open, on_error, on_message, on_close):\n",
    "    websocket.enableTrace(True)\n",
    "    ws = websocket.WebSocketApp(output_sream['sld:streamLocation'],\n",
    "                              on_message = on_message,\n",
    "                              on_error = on_error,\n",
    "                              on_close = on_close)\n",
    "    ws.on_open = on_open\n",
    "    ws.run_forever()\n",
    "\n",
    "thread = threading.Thread(target=proc, args=(on_open, on_error, on_message, on_close,))\n",
    "thread.start()"
   ]
  },
  {
   "cell_type": "markdown",
   "metadata": {},
   "source": [
    "# Visualizing a data example"
   ]
  },
  {
   "cell_type": "code",
   "execution_count": 32,
   "metadata": {},
   "outputs": [
    {
     "data": {
      "text/plain": [
       "{'@context': {'eventTime': {'@id': 'http://www.streamreasoning.org/sld#eventTime',\n",
       "   '@type': 'http://www.w3.org/2001/XMLSchema#dateTime'},\n",
       "  'generatedAtTime': {'@id': 'http://www.w3.org/ns/prov#generatedAtTime',\n",
       "   '@type': 'http://www.w3.org/2001/XMLSchema#dateTime'}},\n",
       " '@graph': [{'@id': 'http://aarhustrafficdata158505:4001/20783861-AS6ca7123a780eae27f4f0ee414625f850',\n",
       "   'eventTime': 'http://www.w3.org/2001/XMLSchema#dateTime',\n",
       "   'generatedAtTime': 'http://www.w3.org/2001/XMLSchema#dateTime'},\n",
       "  {'@id': 'http://aarhustrafficdata158505:4001/20783861-CLd06db7595eb4d0cdf0b3abcb74362460',\n",
       "   'eventTime': 'http://www.w3.org/2001/XMLSchema#dateTime',\n",
       "   'generatedAtTime': 'http://www.w3.org/2001/XMLSchema#dateTime'},\n",
       "  {'@id': 'http://aarhustrafficdata158505:4001/20783861-ETdc627dc1e84991494428f94eea930dec',\n",
       "   'eventTime': 'http://www.w3.org/2001/XMLSchema#dateTime',\n",
       "   'generatedAtTime': 'http://www.w3.org/2001/XMLSchema#dateTime'},\n",
       "  {'@id': 'http://aarhustrafficdata158505:4001/20783861-MTd5abb28f370584cebd981d48c9906f04',\n",
       "   'eventTime': 'http://www.w3.org/2001/XMLSchema#dateTime',\n",
       "   'generatedAtTime': 'http://www.w3.org/2001/XMLSchema#dateTime'},\n",
       "  {'@id': 'http://aarhustrafficdata158505:4001/20783861-VC4c6ae56a13d3527ca2687c8be1711267',\n",
       "   'eventTime': 'http://www.w3.org/2001/XMLSchema#dateTime',\n",
       "   'generatedAtTime': 'http://www.w3.org/2001/XMLSchema#dateTime'}]}"
      ]
     },
     "execution_count": 32,
     "metadata": {},
     "output_type": "execute_result"
    }
   ],
   "source": [
    "json.loads(buffer[0])"
   ]
  },
  {
   "cell_type": "markdown",
   "metadata": {},
   "source": [
    "# Wait for it...data is changed"
   ]
  },
  {
   "cell_type": "code",
   "execution_count": 31,
   "metadata": {},
   "outputs": [
    {
     "data": {
      "text/plain": [
       "{'@context': {'eventTime': {'@id': 'http://www.streamreasoning.org/sld#eventTime',\n",
       "   '@type': 'http://www.w3.org/2001/XMLSchema#dateTime'},\n",
       "  'generatedAtTime': {'@id': 'http://www.w3.org/ns/prov#generatedAtTime',\n",
       "   '@type': 'http://www.w3.org/2001/XMLSchema#dateTime'}},\n",
       " '@graph': [{'@id': 'http://aarhustrafficdata182955:4000/20785030-AS406c048f1cea2a0967568eb810a06dab',\n",
       "   'eventTime': 'http://www.w3.org/2001/XMLSchema#dateTime',\n",
       "   'generatedAtTime': 'http://www.w3.org/2001/XMLSchema#dateTime'},\n",
       "  {'@id': 'http://aarhustrafficdata182955:4000/20785030-CL47e43e8144920906d99fc2769c6b26ab',\n",
       "   'eventTime': 'http://www.w3.org/2001/XMLSchema#dateTime',\n",
       "   'generatedAtTime': 'http://www.w3.org/2001/XMLSchema#dateTime'},\n",
       "  {'@id': 'http://aarhustrafficdata182955:4000/20785030-ET197a674051822b87cb47ee3d26cd91da',\n",
       "   'eventTime': 'http://www.w3.org/2001/XMLSchema#dateTime',\n",
       "   'generatedAtTime': 'http://www.w3.org/2001/XMLSchema#dateTime'},\n",
       "  {'@id': 'http://aarhustrafficdata182955:4000/20785030-MT1954a6c0978bf5288c0592c2c1952411',\n",
       "   'eventTime': 'http://www.w3.org/2001/XMLSchema#dateTime',\n",
       "   'generatedAtTime': 'http://www.w3.org/2001/XMLSchema#dateTime'},\n",
       "  {'@id': 'http://aarhustrafficdata182955:4000/20785030-VCa9f036e3cd0379a740c9d659fe5dcc89',\n",
       "   'eventTime': 'http://www.w3.org/2001/XMLSchema#dateTime',\n",
       "   'generatedAtTime': 'http://www.w3.org/2001/XMLSchema#dateTime'}]}"
      ]
     },
     "execution_count": 31,
     "metadata": {},
     "output_type": "execute_result"
    }
   ],
   "source": [
    "json.loads(buffer[0])"
   ]
  },
  {
   "cell_type": "code",
   "execution_count": null,
   "metadata": {},
   "outputs": [],
   "source": []
  }
 ],
 "metadata": {
  "kernelspec": {
   "display_name": "Python 3",
   "language": "python",
   "name": "python3"
  },
  "language_info": {
   "codemirror_mode": {
    "name": "ipython",
    "version": 3
   },
   "file_extension": ".py",
   "mimetype": "text/x-python",
   "name": "python",
   "nbconvert_exporter": "python",
   "pygments_lexer": "ipython3",
   "version": "3.6.2"
  }
 },
 "nbformat": 4,
 "nbformat_minor": 2
}
