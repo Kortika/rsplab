{
 "cells": [
  {
   "cell_type": "markdown",
   "metadata": {},
   "source": [
    "# Part 2 :  Stream Reasoning with Jasper\n",
    "In this part of the tutorial, we will see how to query  RDF Streams under an simple entailment regime\n",
    "using a stream reasoner called Jasper.\n",
    "\n",
    "The **JASPER** is an RSP engine that offers rule-based reasoning capabilities. It consumes queries\n",
    "written in RSP-QL syntax and fully implements the RSP-QL reference model.\n",
    "\n",
    "\n",
    "## RDFLib\n",
    "RSPLib is the python library that we are going to use in our tutorial.\n",
    "It offers abstrations to manipulate RSPSources, \n",
    "e.g. RDF Streams and to interact with RSP Engines, e.g.\n",
    "registering streams and queries.\n",
    "\n",
    "RSPLib APIs are still under development. In this tutorial we are going to use version 0.3.4 which\n",
    "is available at https://pypi.python.org/pypi/rsplib/.\n",
    "\n",
    "to upgrade it just type !pip instal rsplib --upgrade in a cell\n",
    "\n",
    "source code available at https://github.com/streamreasoning/rsplib"
   ]
  },
  {
   "cell_type": "code",
   "execution_count": 37,
   "metadata": {},
   "outputs": [],
   "source": [
    "from IPython.display import Image\n",
    "from IPython.core.display import HTML \n",
    "from rsplib.processing import RSPSource, StreamReasoner"
   ]
  },
  {
   "cell_type": "markdown",
   "metadata": {},
   "source": [
    "# Now one we assume that RDF Stream are up and running from Part 1. If you did not followed part one please follow the link below and complete the part about TripleWave and RDF Streams.\n",
    "\n",
    "http://localhost:8888/notebooks/work/streamapp/StreamApp%20-%20Part%201%20-%20%20RDF%20Stream%20Processing%20with%20the%20CSPARQL%20engine.ipynb\n"
   ]
  },
  {
   "cell_type": "markdown",
   "metadata": {},
   "source": [
    "# Stream Reasoner: Jasper\n",
    "\n",
    "Now that we have our RDF Stream running, we can start thinking about how to query them.\n",
    "To this extent, we are going to use jasper.\n",
    "\n",
    "**Did you started csparql in the consumer folder?**\n",
    "\n",
    "RSPLib offers a facade to communicate with Stream Reasoners via the SR Services (a RESTful interface for SRs).\n"
   ]
  },
  {
   "cell_type": "code",
   "execution_count": 21,
   "metadata": {},
   "outputs": [
    {
     "name": "stdout",
     "output_type": "stream",
     "text": [
      "{\"name\":\"jasper\",\"host\":\"jasper/\",\"runUUID\":\"88e4f7ee-c18d-11e7-b712-1a00a83a5601\",\"port\":8183,\"empty_results\":false,\"inference\":false,\"timestam_function\":false,\"backloop\":false,\"num_streams\":4,\"num_datasets\":0,\"num_queries\":0}\n"
     ]
    },
    {
     "data": {
      "text/plain": [
       "{'backloop': False,\n",
       " 'empty_results': False,\n",
       " 'host': 'jasper/',\n",
       " 'inference': False,\n",
       " 'name': 'jasper',\n",
       " 'num_datasets': 0,\n",
       " 'num_queries': 0,\n",
       " 'num_streams': 4,\n",
       " 'port': 8183,\n",
       " 'runUUID': '88e4f7ee-c18d-11e7-b712-1a00a83a5601',\n",
       " 'timestam_function': False}"
      ]
     },
     "execution_count": 21,
     "metadata": {},
     "output_type": "execute_result"
    }
   ],
   "source": [
    "jasper = StreamReasoner(\"http://jasper\", 8183);\n",
    "jasper.status()"
   ]
  },
  {
   "cell_type": "markdown",
   "metadata": {},
   "source": [
    "## Registering Streams"
   ]
  },
  {
   "cell_type": "code",
   "execution_count": 18,
   "metadata": {},
   "outputs": [
    {
     "name": "stdout",
     "output_type": "stream",
     "text": [
      "\"Stream AarhusTrafficData158505 succesfully registered with IRI http://aarhustrafficdata158505:4001/sgraph\"\n"
     ]
    },
    {
     "data": {
      "text/plain": [
       "'Stream AarhusTrafficData158505 succesfully registered with IRI http://aarhustrafficdata158505:4001/sgraph'"
      ]
     },
     "execution_count": 18,
     "metadata": {},
     "output_type": "execute_result"
    }
   ],
   "source": [
    "jasper.register_stream(\"AarhusTrafficData158505\", \"http://aarhustrafficdata158505:4001/sgraph\")"
   ]
  },
  {
   "cell_type": "code",
   "execution_count": 19,
   "metadata": {},
   "outputs": [
    {
     "name": "stdout",
     "output_type": "stream",
     "text": [
      "\"Stream AarhusTrafficData182955 succesfully registered with IRI http://aarhustrafficdata182955:4000/sgraph\"\n"
     ]
    },
    {
     "data": {
      "text/plain": [
       "'Stream AarhusTrafficData182955 succesfully registered with IRI http://aarhustrafficdata182955:4000/sgraph'"
      ]
     },
     "execution_count": 19,
     "metadata": {},
     "output_type": "execute_result"
    }
   ],
   "source": [
    "jasper.register_stream(\"AarhusTrafficData182955\", \"http://aarhustrafficdata182955:4000/sgraph\")"
   ]
  },
  {
   "cell_type": "markdown",
   "metadata": {},
   "source": [
    "## Adding domain knowledge: TBOX\n",
    "\n",
    "In order to perform some reasoning, we require to capture some knowledge about our domain.\n",
    "\n",
    "In this example the ontology available at [here](https://raw.githubusercontent.com/streamreasoning/rsplab/tutorial/collector/lab/streamapp/tbox.rdf)\n",
    "\n",
    "contains a simple hierarchi\n",
    "\n",
    "\n",
    "CongestionLevelA and CongenstionLevelB are subclasses of CongestionLevelT.\n"
   ]
  },
  {
   "cell_type": "code",
   "execution_count": 38,
   "metadata": {},
   "outputs": [
    {
     "data": {
      "text/html": [
       "<img src=\"https://raw.githubusercontent.com/streamreasoning/rsplab/tutorial/collector/lab/streamapp/tbox.png\"/>"
      ],
      "text/plain": [
       "<IPython.core.display.Image object>"
      ]
     },
     "execution_count": 38,
     "metadata": {},
     "output_type": "execute_result"
    }
   ],
   "source": [
    "Image(url= \"https://raw.githubusercontent.com/streamreasoning/rsplab/tutorial/collector/lab/streamapp/tbox.png\")"
   ]
  },
  {
   "cell_type": "markdown",
   "metadata": {},
   "source": [
    "If we have a look to our streams again: http://localhost:8888/notebooks/work/streamapp/Observing%20The%20Stream.ipynb\n",
    "we will observer that **either** CongestionLevelA **or** CongenstionLevelB are present.\n",
    "\n",
    "We are now going to show how to look for CongestionLevelT adding some reasoning."
   ]
  },
  {
   "cell_type": "code",
   "execution_count": 24,
   "metadata": {},
   "outputs": [],
   "source": [
    "tbox = \"https://raw.githubusercontent.com/streamreasoning/rsplab/tutorial/collector/lab/streamapp/tbox.rdf\""
   ]
  },
  {
   "cell_type": "markdown",
   "metadata": {},
   "source": [
    "## Load Some rules from our file, e.g. RDFS entailment"
   ]
  },
  {
   "cell_type": "code",
   "execution_count": 15,
   "metadata": {},
   "outputs": [
    {
     "data": {
      "text/plain": [
       "'[rdf1and4: (?x ?p ?y) -> (?p rdf:type rdf:Property), (?x rdf:type rdfs:Resource), (?y rdf:type rdfs:Resource)]\\n[rdfs7b: (?a rdf:type rdfs:Class) -> (?a rdfs:subClassOf rdfs:Resource)] \\n\\n[rdfs2:  (?x ?p ?y), (?p rdfs:domain ?c) -> (?x rdf:type ?c)] \\n[rdfs3:  (?x ?p ?y), (?p rdfs:range ?c) -> (?y rdf:type ?c)] \\n[rdfs5a: (?a rdfs:subPropertyOf ?b), (?b rdfs:subPropertyOf ?c) -> (?a rdfs:subPropertyOf ?c)] \\n[rdfs5b: (?a rdf:type rdf:Property) -> (?a rdfs:subPropertyOf ?a)] \\n[rdfs6:  (?a ?p ?b), (?p rdfs:subPropertyOf ?q) -> (?a ?q ?b)] \\n[rdfs7:  (?a rdf:type rdfs:Class) -> (?a rdfs:subClassOf ?a)]\\n[rdfs8:  (?a rdfs:subClassOf ?b), (?b rdfs:subClassOf ?c) -> (?a rdfs:subClassOf ?c)] \\n[rdfs9:  (?x rdfs:subClassOf ?y), (?a rdf:type ?x) -> (?a rdf:type ?y)] \\n[rdfs10: (?x rdf:type rdfs:ContainerMembershipProperty) -> (?x rdfs:subPropertyOf rdfs:member)] \\n'"
      ]
     },
     "execution_count": 15,
     "metadata": {},
     "output_type": "execute_result"
    }
   ],
   "source": [
    "with open('rdfs.rules.txt', 'r') as rule_file:\n",
    "    rdfs=rule_file.read()\n",
    "rdfs"
   ]
  },
  {
   "cell_type": "markdown",
   "metadata": {},
   "source": [
    "## Register RuleSet"
   ]
  },
  {
   "cell_type": "code",
   "execution_count": 16,
   "metadata": {},
   "outputs": [
    {
     "name": "stdout",
     "output_type": "stream",
     "text": [
      "{'ruleset': 'rdfs', 'rules': '[rdf1and4: (?x ?p ?y) -> (?p rdf:type rdf:Property), (?x rdf:type rdfs:Resource), (?y rdf:type rdfs:Resource)]\\n[rdfs7b: (?a rdf:type rdfs:Class) -> (?a rdfs:subClassOf rdfs:Resource)] \\n\\n[rdfs2:  (?x ?p ?y), (?p rdfs:domain ?c) -> (?x rdf:type ?c)] \\n[rdfs3:  (?x ?p ?y), (?p rdfs:range ?c) -> (?y rdf:type ?c)] \\n[rdfs5a: (?a rdfs:subPropertyOf ?b), (?b rdfs:subPropertyOf ?c) -> (?a rdfs:subPropertyOf ?c)] \\n[rdfs5b: (?a rdf:type rdf:Property) -> (?a rdfs:subPropertyOf ?a)] \\n[rdfs6:  (?a ?p ?b), (?p rdfs:subPropertyOf ?q) -> (?a ?q ?b)] \\n[rdfs7:  (?a rdf:type rdfs:Class) -> (?a rdfs:subClassOf ?a)]\\n[rdfs8:  (?a rdfs:subClassOf ?b), (?b rdfs:subClassOf ?c) -> (?a rdfs:subClassOf ?c)] \\n[rdfs9:  (?x rdfs:subClassOf ?y), (?a rdf:type ?x) -> (?a rdf:type ?y)] \\n[rdfs10: (?x rdf:type rdfs:ContainerMembershipProperty) -> (?x rdfs:subPropertyOf rdfs:member)] \\n'}\n",
      "\"Rules rdfs sucessfully registered\"\n"
     ]
    },
    {
     "data": {
      "text/plain": [
       "'Rules rdfs sucessfully registered'"
      ]
     },
     "execution_count": 16,
     "metadata": {},
     "output_type": "execute_result"
    }
   ],
   "source": [
    "jasper.register_rules(\"rdfs\", rdfs)"
   ]
  },
  {
   "cell_type": "code",
   "execution_count": 17,
   "metadata": {},
   "outputs": [
    {
     "name": "stdout",
     "output_type": "stream",
     "text": [
      "[{\"id\":\"rdfs\",\"status\":\"STATIC\"}]\n"
     ]
    },
    {
     "data": {
      "text/plain": [
       "[{'id': 'rdfs', 'status': 'STATIC'}]"
      ]
     },
     "execution_count": 17,
     "metadata": {},
     "output_type": "execute_result"
    }
   ],
   "source": [
    "jasper.rules()"
   ]
  },
  {
   "cell_type": "markdown",
   "metadata": {},
   "source": [
    "## Query RDF Streams Under Graph Level Entailment"
   ]
  },
  {
   "cell_type": "markdown",
   "metadata": {},
   "source": [
    "### RSP-QL Syntax \n",
    "\n",
    "the syntax we are now using is called RSP-QL syntax.\n",
    "The rsp w3c working group is currently working on its [specification](https://github.com/streamreasoning/rsp-ql).\n",
    "Jasper is an early adopter for this syntax."
   ]
  },
  {
   "cell_type": "code",
   "execution_count": 20,
   "metadata": {},
   "outputs": [
    {
     "name": "stdout",
     "output_type": "stream",
     "text": [
      "PREFIX ct: <http://www.insight-centre.org/citytraffic#>\n",
      "CONSTRUCT {?s a ct:CongestionLevelT }\n",
      "FROM NAMED WINDOW <win1> [RANGE 30s , SLIDE 5s] ON STREAM <AarhusTrafficData158505>\n",
      "FROM NAMED WINDOW <win2> [RANGE 30s , SLIDE 5s] ON STREAM <AarhusTrafficData182955>\n",
      "WHERE  { WINDOW ?w { ?s a ct:CongestionLevelT }}\n"
     ]
    }
   ],
   "source": [
    "with open('q4.rspql.txt', 'r') as rspql_query:\n",
    "   body = rspql_query.read()\n",
    "   print(body)"
   ]
  },
  {
   "cell_type": "markdown",
   "metadata": {},
   "source": [
    "## Registering the Query\n",
    "\n",
    "Similarly to what we did for the CSPARQL engine, also for jasper it is necessary to register the query.\n",
    "However, this time we have to specify which rule set and which tbox use during the query answering."
   ]
  },
  {
   "cell_type": "code",
   "execution_count": 25,
   "metadata": {},
   "outputs": [
    {
     "name": "stdout",
     "output_type": "stream",
     "text": [
      "{'queryBody': 'REGISTER STREAM <ct> AS PREFIX ct: <http://www.insight-centre.org/citytraffic#>\\nCONSTRUCT {?s a ct:CongestionLevelT }\\nFROM NAMED WINDOW <win1> [RANGE 30s , SLIDE 5s] ON STREAM <AarhusTrafficData158505>\\nFROM NAMED WINDOW <win2> [RANGE 30s , SLIDE 5s] ON STREAM <AarhusTrafficData182955>\\nWHERE  { WINDOW ?w { ?s a ct:CongestionLevelT }}', 'tbox': 'https://raw.githubusercontent.com/streamreasoning/rsplab/tutorial/collector/lab/streamapp/tbox.rdf', 'ruleset': 'rdfs'}\n",
      "\"Query ct succesfully registered\"\n"
     ]
    },
    {
     "data": {
      "text/plain": [
       "'Query ct succesfully registered'"
      ]
     },
     "execution_count": 25,
     "metadata": {},
     "output_type": "execute_result"
    }
   ],
   "source": [
    "jasper.register_query(\"ct\", \"STREAM\", body, \"rdfs\", tbox)"
   ]
  },
  {
   "cell_type": "markdown",
   "metadata": {},
   "source": [
    "## Registering the Observer\n",
    "\n",
    "Also in this case, we want to observe the results of our query answering on the web."
   ]
  },
  {
   "cell_type": "code",
   "execution_count": 29,
   "metadata": {},
   "outputs": [
    {
     "name": "stdout",
     "output_type": "stream",
     "text": [
      "\"http://jasper:8183/queries/ct/observers/default\"\n"
     ]
    },
    {
     "data": {
      "text/plain": [
       "'http://jasper:8183/queries/ct/observers/default'"
      ]
     },
     "execution_count": 29,
     "metadata": {},
     "output_type": "execute_result"
    }
   ],
   "source": [
    "jasper.register_observer(\"ct\", \"default\", {\"host\":\"jasper\",\"type\":\"ws\",\"port\":8283,\"name\":\"default\"})"
   ]
  },
  {
   "cell_type": "markdown",
   "metadata": {},
   "source": [
    "**Are you courious how the output stream looks like?**\n",
    "\n",
    "http://localhost:8888/notebooks/work/streamapp/Observing%20The%20Output%20-%20Part%202.ipynb"
   ]
  },
  {
   "cell_type": "markdown",
   "metadata": {},
   "source": [
    "## Measuring the Performance\n",
    "\n",
    "RSPLab offers assisted realt-time performance monitoring using cAdvisor and Grafana.\n",
    "In order to observe the current status of the engine you can visit\n",
    "\n",
    "http://localhost:3000/dashboard/db/jasper?orgId=1\n",
    "\n",
    "in case you didn't access yet, **username**:admin **password**:admin\n"
   ]
  },
  {
   "cell_type": "code",
   "execution_count": 39,
   "metadata": {},
   "outputs": [
    {
     "data": {
      "text/html": [
       "<img src=\"https://raw.githubusercontent.com/streamreasoning/rsplab/tutorial/collector/lab/streamapp/csparq_grafana.png\"/>"
      ],
      "text/plain": [
       "<IPython.core.display.Image object>"
      ]
     },
     "execution_count": 39,
     "metadata": {},
     "output_type": "execute_result"
    }
   ],
   "source": [
    "Image(url= \"https://raw.githubusercontent.com/streamreasoning/rsplab/tutorial/collector/lab/streamapp/csparq_grafana.png\")"
   ]
  },
  {
   "cell_type": "markdown",
   "metadata": {},
   "source": [
    "## Clean Up"
   ]
  },
  {
   "cell_type": "code",
   "execution_count": 30,
   "metadata": {},
   "outputs": [
    {
     "name": "stdout",
     "output_type": "stream",
     "text": [
      "\"Observer default (ws://jasper:8283/ct) succesfully unregistered\"\n"
     ]
    },
    {
     "data": {
      "text/plain": [
       "'Observer default (ws://jasper:8283/ct) succesfully unregistered'"
      ]
     },
     "execution_count": 30,
     "metadata": {},
     "output_type": "execute_result"
    }
   ],
   "source": [
    "jasper.unregister_observer(\"ct\", \"default\")"
   ]
  },
  {
   "cell_type": "code",
   "execution_count": 31,
   "metadata": {},
   "outputs": [
    {
     "name": "stdout",
     "output_type": "stream",
     "text": [
      "\"Query ct and stream jasper/queries/ct succesfully unregistered\"\n"
     ]
    },
    {
     "data": {
      "text/plain": [
       "'Query ct and stream jasper/queries/ct succesfully unregistered'"
      ]
     },
     "execution_count": 31,
     "metadata": {},
     "output_type": "execute_result"
    }
   ],
   "source": [
    "jasper.unregister_query(\"ct\")"
   ]
  },
  {
   "cell_type": "code",
   "execution_count": 33,
   "metadata": {},
   "outputs": [
    {
     "name": "stdout",
     "output_type": "stream",
     "text": [
      "\"Stream AarhusTrafficData182955 succesfully unregistered\"\n"
     ]
    },
    {
     "data": {
      "text/plain": [
       "'Stream AarhusTrafficData182955 succesfully unregistered'"
      ]
     },
     "execution_count": 33,
     "metadata": {},
     "output_type": "execute_result"
    }
   ],
   "source": [
    "jasper.unregister_stream(\"AarhusTrafficData182955\")"
   ]
  },
  {
   "cell_type": "code",
   "execution_count": 34,
   "metadata": {},
   "outputs": [
    {
     "name": "stdout",
     "output_type": "stream",
     "text": [
      "\"Stream AarhusTrafficData158505 succesfully unregistered\"\n"
     ]
    },
    {
     "data": {
      "text/plain": [
       "'Stream AarhusTrafficData158505 succesfully unregistered'"
      ]
     },
     "execution_count": 34,
     "metadata": {},
     "output_type": "execute_result"
    }
   ],
   "source": [
    "jasper.unregister_stream(\"AarhusTrafficData158505\")"
   ]
  },
  {
   "cell_type": "code",
   "execution_count": 35,
   "metadata": {},
   "outputs": [
    {
     "name": "stdout",
     "output_type": "stream",
     "text": [
      "{\"name\":\"jasper\",\"host\":\"jasper/\",\"runUUID\":\"88e4f7ee-c18d-11e7-b712-1a00a83a5601\",\"port\":8183,\"empty_results\":false,\"inference\":false,\"timestam_function\":false,\"backloop\":false,\"num_streams\":2,\"num_datasets\":0,\"num_queries\":0}\n"
     ]
    },
    {
     "data": {
      "text/plain": [
       "{'backloop': False,\n",
       " 'empty_results': False,\n",
       " 'host': 'jasper/',\n",
       " 'inference': False,\n",
       " 'name': 'jasper',\n",
       " 'num_datasets': 0,\n",
       " 'num_queries': 0,\n",
       " 'num_streams': 2,\n",
       " 'port': 8183,\n",
       " 'runUUID': '88e4f7ee-c18d-11e7-b712-1a00a83a5601',\n",
       " 'timestam_function': False}"
      ]
     },
     "execution_count": 35,
     "metadata": {},
     "output_type": "execute_result"
    }
   ],
   "source": [
    "jasper.status()"
   ]
  },
  {
   "cell_type": "markdown",
   "metadata": {},
   "source": [
    "## To turn off jasper:\n",
    "- return to the folder rsplab/consumer \n",
    "- ./stop.sh"
   ]
  },
  {
   "cell_type": "code",
   "execution_count": null,
   "metadata": {},
   "outputs": [],
   "source": []
  }
 ],
 "metadata": {
  "kernelspec": {
   "display_name": "Python 3",
   "language": "python",
   "name": "python3"
  },
  "language_info": {
   "codemirror_mode": {
    "name": "ipython",
    "version": 3
   },
   "file_extension": ".py",
   "mimetype": "text/x-python",
   "name": "python",
   "nbconvert_exporter": "python",
   "pygments_lexer": "ipython3",
   "version": "3.6.2"
  }
 },
 "nbformat": 4,
 "nbformat_minor": 2
}
