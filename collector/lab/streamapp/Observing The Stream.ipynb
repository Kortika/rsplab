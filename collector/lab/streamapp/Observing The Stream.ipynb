{
 "cells": [
  {
   "cell_type": "code",
   "execution_count": 116,
   "metadata": {},
   "outputs": [],
   "source": [
    "import threading\n",
    "from collections import deque\n",
    "from IPython.display import display\n",
    "import ipywidgets as widgets\n",
    "import time\n",
    "import websocket\n",
    "from rsplib.processing import RSPSource\n",
    "import json"
   ]
  },
  {
   "cell_type": "markdown",
   "metadata": {},
   "source": [
    "# Out Stream"
   ]
  },
  {
   "cell_type": "code",
   "execution_count": 122,
   "metadata": {},
   "outputs": [
    {
     "data": {
      "text/plain": [
       "'ws://aarhustrafficdata182955:4040/primus'"
      ]
     },
     "execution_count": 122,
     "metadata": {},
     "output_type": "execute_result"
    }
   ],
   "source": [
    "stream0 = RSPSource(\"http://aarhustrafficdata182955\", 4000);\n",
    "stream0.location()"
   ]
  },
  {
   "cell_type": "code",
   "execution_count": 123,
   "metadata": {},
   "outputs": [],
   "source": [
    "buffer = deque([], 10)"
   ]
  },
  {
   "cell_type": "code",
   "execution_count": 124,
   "metadata": {},
   "outputs": [
    {
     "name": "stderr",
     "output_type": "stream",
     "text": [
      "--- request header ---\n",
      "GET /primus HTTP/1.1\n",
      "Upgrade: websocket\n",
      "Connection: Upgrade\n",
      "Host: aarhustrafficdata182955:4040\n",
      "Origin: http://aarhustrafficdata182955:4040\n",
      "Sec-WebSocket-Key: AaDOeTZf3qz0r7zF0TGXRg==\n",
      "Sec-WebSocket-Version: 13\n",
      "\n",
      "\n",
      "-----------------------\n",
      "--- response header ---\n",
      "HTTP/1.1 101 Switching Protocols\n",
      "Upgrade: websocket\n",
      "Connection: Upgrade\n",
      "Sec-WebSocket-Accept: P32MzlZsRo55up1Wo08yB9kWp28=\n",
      "-----------------------\n"
     ]
    }
   ],
   "source": [
    "def on_message(ws, message):\n",
    "    buffer.append(message)\n",
    "\n",
    "def on_error(ws, error):\n",
    "    print(error)\n",
    "\n",
    "def on_close(ws):\n",
    "    print(\"### closed ###\")\n",
    "\n",
    "def on_open(ws):\n",
    "    def run(*args):\n",
    "        for i in range(3):\n",
    "            time.sleep(1)\n",
    "            ws.send(\"Hello %d\" % i)\n",
    "        time.sleep(1)\n",
    "        ws.close()\n",
    "        print(\"thread terminating...\")\n",
    "\n",
    "\n",
    "def proc(on_open, on_error, on_message, on_close):\n",
    "    websocket.enableTrace(True)\n",
    "    ws = websocket.WebSocketApp(stream0.location(),\n",
    "                              on_message = on_message,\n",
    "                              on_error = on_error,\n",
    "                              on_close = on_close)\n",
    "    ws.on_open = on_open\n",
    "    ws.run_forever()\n",
    "\n",
    "thread = threading.Thread(target=proc, args=(on_open, on_error, on_message, on_close,))\n",
    "thread.start()"
   ]
  },
  {
   "cell_type": "markdown",
   "metadata": {},
   "source": [
    "# Visualizing a data example"
   ]
  },
  {
   "cell_type": "code",
   "execution_count": 126,
   "metadata": {},
   "outputs": [
    {
     "data": {
      "text/plain": [
       "{'@context': {'ct': 'http://www.insight-centre.org/citytraffic#',\n",
       "  'generatedAt': {'@id': 'http://www.w3.org/ns/prov#generatedAtTime',\n",
       "   '@type': 'http://www.w3.org/2001/XMLSchema#dateTime'},\n",
       "  'prov': 'http://www.w3.org/ns/prov#',\n",
       "  'ses': 'http://www.insight-centre.org/dataset/SampleEventService#',\n",
       "  'sld': 'http://www.streamreasoning.org/sld#',\n",
       "  'ssn': 'http://purl.oclc.org/NET/ssnx/ssn#',\n",
       "  'xsd': 'http://www.w3.org/2001/XMLSchema#'},\n",
       " '@graph': [{'@id': 'ses:Property-11d60592-7d15-4934-9e23-f1b38df90fd5',\n",
       "   '@type': ['ct:CongestionLevel', 'ct:CongestionLevelA']},\n",
       "  {'@id': 'http://www.rsp-lab.org/triplewave/citybench/AarhusTrafficData182955/20772458-CL93325975236c24a409b131f665903002',\n",
       "   '@type': 'ssn:Observation',\n",
       "   'ct:hasValue': {'@type': 'xsd:decimal', '@value': '0.0313111545988258'},\n",
       "   'ssn:observedBy': {'@id': 'ses:AarhusTrafficData182955'},\n",
       "   'ssn:observedProperty': {'@id': 'ses:Property-11d60592-7d15-4934-9e23-f1b38df90fd5'}}],\n",
       " '@id': 'http://aarhustrafficdata182955:4000/20772458-CL93325975236c24a409b131f665903002',\n",
       " 'prov:generatedAtTime': {'@type': 'xsd:dateTime',\n",
       "  '@value': '2017-11-04T17:14:59.777+0000'},\n",
       " 'sld:eventTime': {'@type': 'xsd:dateTime', '@value': '2014-08-01T12:45:00.0'}}"
      ]
     },
     "execution_count": 126,
     "metadata": {},
     "output_type": "execute_result"
    }
   ],
   "source": [
    "json.loads(buffer[0])"
   ]
  },
  {
   "cell_type": "markdown",
   "metadata": {},
   "source": [
    "# Wait for it...data is changed"
   ]
  },
  {
   "cell_type": "code",
   "execution_count": 129,
   "metadata": {},
   "outputs": [
    {
     "data": {
      "text/plain": [
       "{'@context': {'ct': 'http://www.insight-centre.org/citytraffic#',\n",
       "  'generatedAt': {'@id': 'http://www.w3.org/ns/prov#generatedAtTime',\n",
       "   '@type': 'http://www.w3.org/2001/XMLSchema#dateTime'},\n",
       "  'prov': 'http://www.w3.org/ns/prov#',\n",
       "  'ses': 'http://www.insight-centre.org/dataset/SampleEventService#',\n",
       "  'sld': 'http://www.streamreasoning.org/sld#',\n",
       "  'ssn': 'http://purl.oclc.org/NET/ssnx/ssn#',\n",
       "  'xsd': 'http://www.w3.org/2001/XMLSchema#'},\n",
       " '@id': 'http://aarhustrafficdata158505:4001/20771289-ETc3bc2283801c850ecb892479c22d6d67',\n",
       " 'prov:generatedAtTime': {'@type': 'xsd:dateTime',\n",
       "  '@value': '2017-11-04T17:15:26.186+0000'},\n",
       " 'sld:eventTime': {'@type': 'xsd:dateTime', '@value': '2014-08-01T12:35:00.0'}}"
      ]
     },
     "execution_count": 129,
     "metadata": {},
     "output_type": "execute_result"
    }
   ],
   "source": [
    "json.loads(buffer[0])"
   ]
  },
  {
   "cell_type": "code",
   "execution_count": null,
   "metadata": {},
   "outputs": [],
   "source": []
  }
 ],
 "metadata": {
  "kernelspec": {
   "display_name": "Python 3",
   "language": "python",
   "name": "python3"
  },
  "language_info": {
   "codemirror_mode": {
    "name": "ipython",
    "version": 3
   },
   "file_extension": ".py",
   "mimetype": "text/x-python",
   "name": "python",
   "nbconvert_exporter": "python",
   "pygments_lexer": "ipython3",
   "version": "3.6.2"
  }
 },
 "nbformat": 4,
 "nbformat_minor": 2
}
