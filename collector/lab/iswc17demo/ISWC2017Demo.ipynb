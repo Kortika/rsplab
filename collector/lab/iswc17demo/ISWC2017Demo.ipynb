{
 "cells": [
  {
   "cell_type": "markdown",
   "metadata": {},
   "source": [
    "## ISWC 2017 RSP Demo"
   ]
  },
  {
   "cell_type": "markdown",
   "metadata": {},
   "source": [
    "### Ensure you have the latest version of rsplib"
   ]
  },
  {
   "cell_type": "code",
   "execution_count": null,
   "metadata": {},
   "outputs": [],
   "source": [
    "!pip install rsplib --upgrade"
   ]
  },
  {
   "cell_type": "code",
   "execution_count": 38,
   "metadata": {},
   "outputs": [],
   "source": [
    "from rsplib.processing import execute, deploy\n",
    "from rsplib.processing.consumer.query import *\n",
    "from rsplib.experiments import Experiment, ExperimentExecution, Report"
   ]
  },
  {
   "cell_type": "markdown",
   "metadata": {},
   "source": [
    "### A simple Experiment Using CITYBENCH Streams"
   ]
  },
  {
   "cell_type": "code",
   "execution_count": 42,
   "metadata": {},
   "outputs": [
    {
     "data": {
      "text/plain": [
       "<rsplib.experiments.Experiment at 0x7f55ee85bef0>"
      ]
     },
     "execution_count": 42,
     "metadata": {},
     "output_type": "execute_result"
    }
   ],
   "source": [
    "#create the experiment\n",
    "e = Experiment()\n",
    "#number of time the experiment is reapeated\n",
    "repetition=1\n",
    "\n",
    "#set the experiment duration\n",
    "e.set_duration(30,'s')\n",
    "\n",
    "#Add an engine, in this case C-SPARQL engine, and specify which RSP dialect it speaks\n",
    "e.add_engine('csparql', 8182, Dialects.CSPARQL)\n",
    "\n",
    "#Add a query, using the programmatic API. No worries about different syntax\n",
    "#rsplib takes care of using the right one, just specify the dialect\n",
    "\n",
    "qname = \"Demo\"\n",
    "# Name, Type, Dialect\n",
    "q = e.add_query(qname, \"stream\", Dialects.CSPARQL)\n",
    "q.set_select_clause(\"{?s ?p ?o}\")\n",
    "q.set_where_clause(\"?s ?p ?o\")\n",
    "e.add_windowed_stream(qname,\"AarhusTrafficData182955\", \"http://aarhustrafficdata182955:4000/sgraph\", '3s','1s' )\n",
    "e.add_windowed_stream(qname,\"AarhusTrafficData158505\", \"http://aarhustrafficdata158505:4001/sgraph\", '3s','1s' )"
   ]
  },
  {
   "cell_type": "markdown",
   "metadata": {},
   "source": [
    "### Deploy The Experiment, i.e. register streams, queries and observers to the output streams"
   ]
  },
  {
   "cell_type": "markdown",
   "metadata": {},
   "source": [
    "### Go And Check CSPARQL performance at http://localhost:3000/dashboard/db/csparql login admin pw admin"
   ]
  },
  {
   "cell_type": "code",
   "execution_count": 43,
   "metadata": {},
   "outputs": [
    {
     "name": "stdout",
     "output_type": "stream",
     "text": [
      "{\"name\":\"csparql\",\"host\":\"csparql/\",\"runUUID\":\"37488a19-bd87-11e7-812c-1a00a83a5601\",\"port\":8182,\"empty_results\":false,\"inference\":false,\"timestam_function\":false,\"backloop\":false,\"num_streams\":0,\"num_datasets\":0,\"num_queries\":0}\n",
      "Registering stream: AarhusTrafficData182955\n",
      "\"Stream AarhusTrafficData182955 succesfully registered with IRI http://aarhustrafficdata182955:4000/sgraph\"\n",
      "Registering stream: AarhusTrafficData158505\n",
      "\"Stream AarhusTrafficData158505 succesfully registered with IRI http://aarhustrafficdata158505:4001/sgraph\"\n",
      "Registering query Demo \n",
      "{'queryBody': 'REGISTER STREAM Demo AS CONSTRUCT {?s ?p ?o} FROM STREAM <AarhusTrafficData182955> [RANGE 3s STEP 1s]\\n FROM STREAM <AarhusTrafficData158505> [RANGE 3s STEP 1s]\\nWHERE {?s ?p ?o\\n}'}\n",
      "\"Query Demo succesfully registered\"\n",
      "Query Demo succesfully registered\n",
      "Registering observers for Demo\n",
      "\"http://csparql:8182/queries/Demo/observers/default\"\n",
      "{ \"@context\": {\"sld\":\"http://streamreasoning.org/ontologies/SLD4TripleWave#\",\"generatedAt\": {\"@id\":\"http://www.w3.org/ns/prov#generatedAtTime\",\"@type\":\"http://www.w3.org/2001/XMLSchema#dateTime\"}},\"@id\": \"default\",\"@type\": \"sld:sGraph\",\"sld:streamLocation\": \"ws://csparql:9101/Demo/results\"}\n",
      "[{\"id\":\"Demo\",\"type\":\"STREAM\",\"status\":\"RUNNING\"}]\n"
     ]
    }
   ],
   "source": [
    "ex = deploy(e)"
   ]
  },
  {
   "cell_type": "markdown",
   "metadata": {},
   "source": [
    "### Execute, i.e. unregister streams, queries and observers to the output streams after a fixed amount of time"
   ]
  },
  {
   "cell_type": "code",
   "execution_count": 44,
   "metadata": {},
   "outputs": [
    {
     "name": "stdout",
     "output_type": "stream",
     "text": [
      "[{\"id\":\"Demo\",\"type\":\"STREAM\",\"status\":\"RUNNING\"}]\n",
      "[{\"id\":\"default\",\"url\":\"ws://csparql:9101/Demo/results\"}]\n",
      "\"Observer default (ws://csparql:9101/Demo) succesfully unregistered\"\n",
      "\"Query Demo and stream csparql/queries/Demo succesfully unregistered\"\n",
      "[{\"streamURL\":\"AarhusTrafficData158505\",\"status\":\"RUNNING\"},{\"streamURL\":\"AarhusTrafficData182955\",\"status\":\"RUNNING\"}]\n",
      "\"Stream AarhusTrafficData158505 succesfully unregistered\"\n",
      "\"Stream AarhusTrafficData182955 succesfully unregistered\"\n"
     ]
    }
   ],
   "source": [
    "execute(ex)"
   ]
  },
  {
   "cell_type": "markdown",
   "metadata": {},
   "source": [
    "# Experiment Recap"
   ]
  },
  {
   "cell_type": "code",
   "execution_count": 46,
   "metadata": {},
   "outputs": [
    {
     "data": {
      "text/plain": [
       "{'Execution': {'D': [],\n",
       "  'E': {'backloop': False,\n",
       "   'empty_results': False,\n",
       "   'host': 'csparql/',\n",
       "   'inference': False,\n",
       "   'name': 'csparql',\n",
       "   'num_datasets': 0,\n",
       "   'num_queries': 0,\n",
       "   'num_streams': 0,\n",
       "   'port': 8182,\n",
       "   'runUUID': '37488a19-bd87-11e7-812c-1a00a83a5601',\n",
       "   'timestam_function': False},\n",
       "  'K': None,\n",
       "  'O': [{'Demo': {'@context': {'generatedAt': {'@id': 'http://www.w3.org/ns/prov#generatedAtTime',\n",
       "       '@type': 'http://www.w3.org/2001/XMLSchema#dateTime'},\n",
       "      'sld': 'http://streamreasoning.org/ontologies/SLD4TripleWave#'},\n",
       "     '@id': 'default',\n",
       "     '@type': 'sld:sGraph',\n",
       "     'sld:streamLocation': 'ws://csparql:9101/Demo/results'}}],\n",
       "  'Q': [{'id': 'Demo', 'status': 'RUNNING', 'type': 'STREAM'}],\n",
       "  'R': None,\n",
       "  'S': ['Stream AarhusTrafficData182955 succesfully registered with IRI http://aarhustrafficdata182955:4000/sgraph',\n",
       "   'Stream AarhusTrafficData158505 succesfully registered with IRI http://aarhustrafficdata158505:4001/sgraph'],\n",
       "  'end_time': '2017-10-30 15:44:49',\n",
       "  'start_time': '2017-10-30 15:44:19'},\n",
       " 'Experiment': {'duration': {'time': 30, 'unit': 's'},\n",
       "  'engine': {'dialect': 'CSPARQL', 'host': 'csparql', 'port': 8182},\n",
       "  'graphs': [],\n",
       "  'metadata': {},\n",
       "  'queries': [{'name': 'Demo', 'body': 'CONSTRUCT {?s ?p ?o} FROM STREAM <AarhusTrafficData182955> [RANGE 3s STEP 1s]\\n FROM STREAM <AarhusTrafficData158505> [RANGE 3s STEP 1s]\\nWHERE {?s ?p ?o\\n}', 'type': 'stream', 'dialect': 'CSPARQL', 'structure': {'select_clause': '{?s ?p ?o}', 'where_clause': {'default': ['?s ?p ?o'], 'named': [], 'unnamed': []}, 'streams': [{'name': 'AarhusTrafficData182955', 'location': 'http://aarhustrafficdata182955:4000/sgraph', 'scale_factor': 1, 'window': {'range': '3s', 'step': '1s'}}, {'name': 'AarhusTrafficData158505', 'location': 'http://aarhustrafficdata158505:4001/sgraph', 'scale_factor': 1, 'window': {'range': '3s', 'step': '1s'}}], 'group_by': '', 'having': '', 'order_by': ''}}],\n",
       "  'streams': [{'name': 'AarhusTrafficData182955', 'location': 'http://aarhustrafficdata182955:4000/sgraph', 'scale_factor': 1, 'window': {'range': '3s', 'step': '1s'}},\n",
       "   {'name': 'AarhusTrafficData158505', 'location': 'http://aarhustrafficdata158505:4001/sgraph', 'scale_factor': 1, 'window': {'range': '3s', 'step': '1s'}}]}}"
      ]
     },
     "execution_count": 46,
     "metadata": {},
     "output_type": "execute_result"
    }
   ],
   "source": [
    "ex.__dict__()"
   ]
  },
  {
   "cell_type": "markdown",
   "metadata": {},
   "source": [
    "# End"
   ]
  }
 ],
 "metadata": {
  "kernelspec": {
   "display_name": "Python 3",
   "language": "python",
   "name": "python3"
  },
  "language_info": {
   "codemirror_mode": {
    "name": "ipython",
    "version": 3
   },
   "file_extension": ".py",
   "mimetype": "text/x-python",
   "name": "python",
   "nbconvert_exporter": "python",
   "pygments_lexer": "ipython3",
   "version": "3.6.2"
  }
 },
 "nbformat": 4,
 "nbformat_minor": 2
}
